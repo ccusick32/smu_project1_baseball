{
 "cells": [
  {
   "cell_type": "code",
   "execution_count": 74,
   "id": "e1c892eb",
   "metadata": {},
   "outputs": [],
   "source": [
    "import gmaps\n",
    "import pandas as pd\n",
    "from matplotlib import pyplot as plt\n",
    "\n",
    "# Google developer API key\n",
    "from config import gkey\n",
    "\n",
    "# Configure gmaps\n",
    "gmaps.configure(api_key=gkey)\n",
    "\n",
    "# Dependencies\n",
    "import requests\n",
    "import json\n",
    "\n",
    "# Google API Key\n",
    "from config import gkey\n",
    "\n"
   ]
  },
  {
   "cell_type": "code",
   "execution_count": 2,
   "id": "ee57b439",
   "metadata": {},
   "outputs": [
    {
     "name": "stdout",
     "output_type": "stream",
     "text": [
      "Drill #1: The Geocoordinates of Seattle, WA\n",
      "Anaheim, California: 33.8365932, -117.9143012\n"
     ]
    }
   ],
   "source": [
    "target_city = \"Anaheim, California\"\n",
    "\n",
    "params = {\"address\": target_city, \"key\": gkey}\n",
    "\n",
    "# Build URL using the Google Maps API\n",
    "base_url = \"https://maps.googleapis.com/maps/api/geocode/json\"\n",
    "\n",
    "print(\"Drill #1: The Geocoordinates of Seattle, WA\")\n",
    "\n",
    "# Run request\n",
    "response = requests.get(base_url, params=params)\n",
    "\n",
    "# print the response URL, avoid doing for public GitHub repos in order to avoid exposing key\n",
    "# print(response.url)\n",
    "\n",
    "# Convert to JSON\n",
    "seattle_geo = response.json()\n",
    "\n",
    "# Extract lat/lng\n",
    "lat = seattle_geo[\"results\"][0][\"geometry\"][\"location\"][\"lat\"]\n",
    "lng = seattle_geo[\"results\"][0][\"geometry\"][\"location\"][\"lng\"]\n",
    "\n",
    "\n",
    "# Print results\n",
    "print(f\"{target_city}: {lat}, {lng}\")\n",
    "\n"
   ]
  },
  {
   "cell_type": "code",
   "execution_count": null,
   "id": "b761ddd7",
   "metadata": {},
   "outputs": [],
   "source": []
  },
  {
   "cell_type": "code",
   "execution_count": 3,
   "id": "60ef00a8",
   "metadata": {},
   "outputs": [
    {
     "name": "stdout",
     "output_type": "stream",
     "text": [
      "Dallas, Texas: 32.7766642, -96.79698789999999\n"
     ]
    }
   ],
   "source": [
    "target_city2 = 'Dallas, Texas'\n",
    "\n",
    "params = {\"address\": target_city2, \"key\": gkey}\n",
    "\n",
    "# Build URL using the Google Maps API\n",
    "base_url = \"https://maps.googleapis.com/maps/api/geocode/json\"\n",
    "\n",
    "\n",
    "# Run request\n",
    "response = requests.get(base_url, params=params)\n",
    "\n",
    "# print the response URL, avoid doing for public GitHub repos in order to avoid exposing key\n",
    "# print(response.url)\n",
    "\n",
    "# Convert to JSON\n",
    "Arlington_geo = response.json()\n",
    "\n",
    "# Extract lat/lng\n",
    "lat = Arlington_geo[\"results\"][0][\"geometry\"][\"location\"][\"lat\"]\n",
    "lng = Arlington_geo[\"results\"][0][\"geometry\"][\"location\"][\"lng\"]\n",
    "\n",
    "\n",
    "# Print results\n",
    "print(f\"{target_city2}: {lat}, {lng}\")\n"
   ]
  },
  {
   "cell_type": "code",
   "execution_count": 4,
   "id": "24a054c9",
   "metadata": {},
   "outputs": [
    {
     "name": "stdout",
     "output_type": "stream",
     "text": [
      "Albany, New York: 42.6525793, -73.7562317\n"
     ]
    }
   ],
   "source": [
    "target_city3 = \"Albany, New York\"\n",
    "\n",
    "params = {\"address\": target_city3, \"key\": gkey}\n",
    "\n",
    "# Build URL using the Google Maps API\n",
    "base_url = \"https://maps.googleapis.com/maps/api/geocode/json\"\n",
    "\n",
    "\n",
    "# Run request\n",
    "response = requests.get(base_url, params=params)\n",
    "\n",
    "# print the response URL, avoid doing for public GitHub repos in order to avoid exposing key\n",
    "# print(response.url)\n",
    "\n",
    "# Convert to JSON\n",
    "Arlington_geo = response.json()\n",
    "\n",
    "# Extract lat/lng\n",
    "lat = Arlington_geo[\"results\"][0][\"geometry\"][\"location\"][\"lat\"]\n",
    "lng = Arlington_geo[\"results\"][0][\"geometry\"][\"location\"][\"lng\"]\n",
    "\n",
    "\n",
    "# Print results\n",
    "print(f\"{target_city3}: {lat}, {lng}\")\n"
   ]
  },
  {
   "cell_type": "code",
   "execution_count": 5,
   "id": "aca3b479",
   "metadata": {},
   "outputs": [
    {
     "name": "stdout",
     "output_type": "stream",
     "text": [
      "Altoona, New York: 40.573394, -74.13145\n"
     ]
    }
   ],
   "source": [
    "target_city4 = \"Altoona, New York\"\n",
    "target_city5 = \"Atlanta, Georgia\"\n",
    "\n",
    "params = {\"address\": target_city4, \"key\": gkey}\n",
    "\n",
    "\n",
    "# Build URL using the Google Maps API\n",
    "base_url = \"https://maps.googleapis.com/maps/api/geocode/json\"\n",
    "\n",
    "\n",
    "# Run request\n",
    "response = requests.get(base_url, params=params)\n",
    "\n",
    "# print the response URL, avoid doing for public GitHub repos in order to avoid exposing key\n",
    "# print(response.url)\n",
    "\n",
    "# Convert to JSON\n",
    "Arlington_geo = response.json()\n",
    "\n",
    "# Extract lat/lng\n",
    "lat = Arlington_geo[\"results\"][0][\"geometry\"][\"location\"][\"lat\"]\n",
    "lng = Arlington_geo[\"results\"][0][\"geometry\"][\"location\"][\"lng\"]\n",
    "\n",
    "\n",
    "# Print results\n",
    "print(f\"{target_city4}: {lat}, {lng}\")\n"
   ]
  },
  {
   "cell_type": "code",
   "execution_count": 6,
   "id": "c1eb6628",
   "metadata": {},
   "outputs": [
    {
     "name": "stdout",
     "output_type": "stream",
     "text": [
      "Atlanta, Georgia: 33.7489954, -84.3879824\n"
     ]
    }
   ],
   "source": [
    "target_city5 = \"Atlanta, Georgia\"\n",
    "\n",
    "params = {\"address\": target_city5, \"key\": gkey}\n",
    "\n",
    "# Build URL using the Google Maps API\n",
    "base_url = \"https://maps.googleapis.com/maps/api/geocode/json\"\n",
    "\n",
    "\n",
    "# Run request\n",
    "response = requests.get(base_url, params=params)\n",
    "\n",
    "# print the response URL, avoid doing for public GitHub repos in order to avoid exposing key\n",
    "# print(response.url)\n",
    "\n",
    "# Convert to JSON\n",
    "Arlington_geo = response.json()\n",
    "\n",
    "# Extract lat/lng\n",
    "lat = Arlington_geo[\"results\"][0][\"geometry\"][\"location\"][\"lat\"]\n",
    "lng = Arlington_geo[\"results\"][0][\"geometry\"][\"location\"][\"lng\"]\n",
    "\n",
    "\n",
    "# Print results\n",
    "print(f\"{target_city5}: {lat}, {lng}\")\n"
   ]
  },
  {
   "cell_type": "code",
   "execution_count": 7,
   "id": "6dd7c257",
   "metadata": {},
   "outputs": [
    {
     "name": "stdout",
     "output_type": "stream",
     "text": [
      "baltimore, Maryland: 39.2903848, -76.6121893\n"
     ]
    }
   ],
   "source": [
    "target_city6 = \"baltimore, Maryland\"\n",
    "\n",
    "params = {\"address\": target_city6, \"key\": gkey}\n",
    "\n",
    "# Build URL using the Google Maps API\n",
    "base_url = \"https://maps.googleapis.com/maps/api/geocode/json\"\n",
    "\n",
    "\n",
    "# Run request\n",
    "response = requests.get(base_url, params=params)\n",
    "\n",
    "# print the response URL, avoid doing for public GitHub repos in order to avoid exposing key\n",
    "# print(response.url)\n",
    "\n",
    "# Convert to JSON\n",
    "Arlington_geo = response.json()\n",
    "\n",
    "# Extract lat/lng\n",
    "lat = Arlington_geo[\"results\"][0][\"geometry\"][\"location\"][\"lat\"]\n",
    "lng = Arlington_geo[\"results\"][0][\"geometry\"][\"location\"][\"lng\"]\n",
    "\n",
    "\n",
    "# Print results\n",
    "print(f\"{target_city6}: {lat}, {lng}\")\n"
   ]
  },
  {
   "cell_type": "code",
   "execution_count": 8,
   "id": "53b397e9",
   "metadata": {},
   "outputs": [
    {
     "name": "stdout",
     "output_type": "stream",
     "text": [
      "Boston, Massachusetts: 42.3600825, -71.0588801\n"
     ]
    }
   ],
   "source": [
    "target_city7 = \"Boston, Massachusetts\"\n",
    "\n",
    "params = {\"address\": target_city7, \"key\": gkey}\n",
    "\n",
    "# Build URL using the Google Maps API\n",
    "base_url = \"https://maps.googleapis.com/maps/api/geocode/json\"\n",
    "\n",
    "\n",
    "# Run request\n",
    "response = requests.get(base_url, params=params)\n",
    "\n",
    "# print the response URL, avoid doing for public GitHub repos in order to avoid exposing key\n",
    "# print(response.url)\n",
    "\n",
    "# Convert to JSON\n",
    "Arlington_geo = response.json()\n",
    "\n",
    "# Extract lat/lng\n",
    "lat = Arlington_geo[\"results\"][0][\"geometry\"][\"location\"][\"lat\"]\n",
    "lng = Arlington_geo[\"results\"][0][\"geometry\"][\"location\"][\"lng\"]\n",
    "\n",
    "\n",
    "# Print results\n",
    "print(f\"{target_city7}: {lat}, {lng}\")\n"
   ]
  },
  {
   "cell_type": "code",
   "execution_count": 9,
   "id": "1e0e5d0b",
   "metadata": {},
   "outputs": [
    {
     "name": "stdout",
     "output_type": "stream",
     "text": [
      "Buffalo, New York: 42.88644679999999, -78.8783689\n"
     ]
    }
   ],
   "source": [
    "target_city8 = \"Buffalo, New York\"\n",
    "\n",
    "params = {\"address\": target_city8, \"key\": gkey}\n",
    "\n",
    "# Build URL using the Google Maps API\n",
    "base_url = \"https://maps.googleapis.com/maps/api/geocode/json\"\n",
    "\n",
    "\n",
    "# Run request\n",
    "response = requests.get(base_url, params=params)\n",
    "\n",
    "# print the response URL, avoid doing for public GitHub repos in order to avoid exposing key\n",
    "# print(response.url)\n",
    "\n",
    "# Convert to JSON\n",
    "Arlington_geo = response.json()\n",
    "\n",
    "# Extract lat/lng\n",
    "lat = Arlington_geo[\"results\"][0][\"geometry\"][\"location\"][\"lat\"]\n",
    "lng = Arlington_geo[\"results\"][0][\"geometry\"][\"location\"][\"lng\"]\n",
    "\n",
    "\n",
    "# Print results\n",
    "print(f\"{target_city8}: {lat}, {lng}\")\n"
   ]
  },
  {
   "cell_type": "code",
   "execution_count": 10,
   "id": "79b01a5f",
   "metadata": {},
   "outputs": [
    {
     "name": "stdout",
     "output_type": "stream",
     "text": [
      "Canton, Ohio: 40.79894729999999, -81.378447\n"
     ]
    }
   ],
   "source": [
    "target_city9 = \"Canton, Ohio\"\n",
    "\n",
    "params = {\"address\": target_city9, \"key\": gkey}\n",
    "\n",
    "# Build URL using the Google Maps API\n",
    "base_url = \"https://maps.googleapis.com/maps/api/geocode/json\"\n",
    "\n",
    "\n",
    "# Run request\n",
    "response = requests.get(base_url, params=params)\n",
    "\n",
    "# print the response URL, avoid doing for public GitHub repos in order to avoid exposing key\n",
    "# print(response.url)\n",
    "\n",
    "# Convert to JSON\n",
    "Arlington_geo = response.json()\n",
    "\n",
    "# Extract lat/lng\n",
    "lat = Arlington_geo[\"results\"][0][\"geometry\"][\"location\"][\"lat\"]\n",
    "lng = Arlington_geo[\"results\"][0][\"geometry\"][\"location\"][\"lng\"]\n",
    "\n",
    "\n",
    "# Print results\n",
    "print(f\"{target_city9}: {lat}, {lng}\")\n"
   ]
  },
  {
   "cell_type": "code",
   "execution_count": 11,
   "id": "3e2ced61",
   "metadata": {},
   "outputs": [
    {
     "name": "stdout",
     "output_type": "stream",
     "text": [
      "Chicago, Illinois: 41.8781136, -87.6297982\n"
     ]
    }
   ],
   "source": [
    "target_city10 = \"Chicago, Illinois\"\n",
    "\n",
    "params = {\"address\": target_city10, \"key\": gkey}\n",
    "\n",
    "# Build URL using the Google Maps API\n",
    "base_url = \"https://maps.googleapis.com/maps/api/geocode/json\"\n",
    "\n",
    "\n",
    "# Run request\n",
    "response = requests.get(base_url, params=params)\n",
    "\n",
    "# print the response URL, avoid doing for public GitHub repos in order to avoid exposing key\n",
    "# print(response.url)\n",
    "\n",
    "# Convert to JSON\n",
    "Arlington_geo = response.json()\n",
    "\n",
    "# Extract lat/lng\n",
    "lat = Arlington_geo[\"results\"][0][\"geometry\"][\"location\"][\"lat\"]\n",
    "lng = Arlington_geo[\"results\"][0][\"geometry\"][\"location\"][\"lng\"]\n",
    "\n",
    "\n",
    "# Print results\n",
    "print(f\"{target_city10}: {lat}, {lng}\")\n"
   ]
  },
  {
   "cell_type": "code",
   "execution_count": 12,
   "id": "7e7bbb10",
   "metadata": {},
   "outputs": [
    {
     "name": "stdout",
     "output_type": "stream",
     "text": [
      "Cincinnati, Ohio: 39.1031182, -84.5120196\n"
     ]
    }
   ],
   "source": [
    "target_city11 = \"Cincinnati, Ohio\"\n",
    "\n",
    "params = {\"address\": target_city11, \"key\": gkey}\n",
    "\n",
    "# Build URL using the Google Maps API\n",
    "base_url = \"https://maps.googleapis.com/maps/api/geocode/json\"\n",
    "\n",
    "\n",
    "# Run request\n",
    "response = requests.get(base_url, params=params)\n",
    "\n",
    "# print the response URL, avoid doing for public GitHub repos in order to avoid exposing key\n",
    "# print(response.url)\n",
    "\n",
    "# Convert to JSON\n",
    "Arlington_geo = response.json()\n",
    "\n",
    "# Extract lat/lng\n",
    "lat = Arlington_geo[\"results\"][0][\"geometry\"][\"location\"][\"lat\"]\n",
    "lng = Arlington_geo[\"results\"][0][\"geometry\"][\"location\"][\"lng\"]\n",
    "\n",
    "\n",
    "# Print results\n",
    "print(f\"{target_city11}: {lat}, {lng}\")\n"
   ]
  },
  {
   "cell_type": "code",
   "execution_count": 13,
   "id": "e989ca0e",
   "metadata": {},
   "outputs": [
    {
     "name": "stdout",
     "output_type": "stream",
     "text": [
      "Cleveland, Ohio: 41.49932, -81.6943605\n"
     ]
    }
   ],
   "source": [
    "target_city12 = \"Cleveland, Ohio\"\n",
    "\n",
    "params = {\"address\": target_city12, \"key\": gkey}\n",
    "\n",
    "# Build URL using the Google Maps API\n",
    "base_url = \"https://maps.googleapis.com/maps/api/geocode/json\"\n",
    "\n",
    "\n",
    "# Run request\n",
    "response = requests.get(base_url, params=params)\n",
    "\n",
    "# print the response URL, avoid doing for public GitHub repos in order to avoid exposing key\n",
    "# print(response.url)\n",
    "\n",
    "# Convert to JSON\n",
    "Arlington_geo = response.json()\n",
    "\n",
    "# Extract lat/lng\n",
    "lat = Arlington_geo[\"results\"][0][\"geometry\"][\"location\"][\"lat\"]\n",
    "lng = Arlington_geo[\"results\"][0][\"geometry\"][\"location\"][\"lng\"]\n",
    "\n",
    "\n",
    "# Print results\n",
    "print(f\"{target_city12}: {lat}, {lng}\")\n"
   ]
  },
  {
   "cell_type": "code",
   "execution_count": 14,
   "id": "5769bb08",
   "metadata": {},
   "outputs": [
    {
     "name": "stdout",
     "output_type": "stream",
     "text": [
      "Columbus, Ohio: 39.9611755, -82.99879419999999\n"
     ]
    }
   ],
   "source": [
    "target_city13 = \"Columbus, Ohio\"\n",
    "\n",
    "params = {\"address\": target_city13, \"key\": gkey}\n",
    "\n",
    "# Build URL using the Google Maps API\n",
    "base_url = \"https://maps.googleapis.com/maps/api/geocode/json\"\n",
    "\n",
    "\n",
    "# Run request\n",
    "response = requests.get(base_url, params=params)\n",
    "\n",
    "# print the response URL, avoid doing for public GitHub repos in order to avoid exposing key\n",
    "# print(response.url)\n",
    "\n",
    "# Convert to JSON\n",
    "Arlington_geo = response.json()\n",
    "\n",
    "# Extract lat/lng\n",
    "lat = Arlington_geo[\"results\"][0][\"geometry\"][\"location\"][\"lat\"]\n",
    "lng = Arlington_geo[\"results\"][0][\"geometry\"][\"location\"][\"lng\"]\n",
    "\n",
    "\n",
    "# Print results\n",
    "print(f\"{target_city13}: {lat}, {lng}\")\n"
   ]
  },
  {
   "cell_type": "code",
   "execution_count": 15,
   "id": "81067c01",
   "metadata": {},
   "outputs": [
    {
     "name": "stdout",
     "output_type": "stream",
     "text": [
      "Covington, Kentucky: 39.0836712, -84.5085536\n"
     ]
    }
   ],
   "source": [
    "target_city14 = \"Covington, Kentucky\"\n",
    "\n",
    "params = {\"address\": target_city14, \"key\": gkey}\n",
    "\n",
    "# Build URL using the Google Maps API\n",
    "base_url = \"https://maps.googleapis.com/maps/api/geocode/json\"\n",
    "\n",
    "\n",
    "# Run request\n",
    "response = requests.get(base_url, params=params)\n",
    "\n",
    "# print the response URL, avoid doing for public GitHub repos in order to avoid exposing key\n",
    "# print(response.url)\n",
    "\n",
    "# Convert to JSON\n",
    "Arlington_geo = response.json()\n",
    "\n",
    "# Extract lat/lng\n",
    "lat = Arlington_geo[\"results\"][0][\"geometry\"][\"location\"][\"lat\"]\n",
    "lng = Arlington_geo[\"results\"][0][\"geometry\"][\"location\"][\"lng\"]\n",
    "\n",
    "\n",
    "# Print results\n",
    "print(f\"{target_city14}: {lat}, {lng}\")\n"
   ]
  },
  {
   "cell_type": "code",
   "execution_count": 16,
   "id": "3f9b92a0",
   "metadata": {},
   "outputs": [
    {
     "name": "stdout",
     "output_type": "stream",
     "text": [
      "Dayton, Ohio: 39.7589478, -84.1916069\n"
     ]
    }
   ],
   "source": [
    "target_city15 = \"Dayton, Ohio\"\n",
    "\n",
    "params = {\"address\": target_city15, \"key\": gkey}\n",
    "\n",
    "# Build URL using the Google Maps API\n",
    "base_url = \"https://maps.googleapis.com/maps/api/geocode/json\"\n",
    "\n",
    "\n",
    "# Run request\n",
    "response = requests.get(base_url, params=params)\n",
    "\n",
    "# print the response URL, avoid doing for public GitHub repos in order to avoid exposing key\n",
    "# print(response.url)\n",
    "\n",
    "# Convert to JSON\n",
    "Arlington_geo = response.json()\n",
    "\n",
    "# Extract lat/lng\n",
    "lat = Arlington_geo[\"results\"][0][\"geometry\"][\"location\"][\"lat\"]\n",
    "lng = Arlington_geo[\"results\"][0][\"geometry\"][\"location\"][\"lng\"]\n",
    "\n",
    "\n",
    "# Print results\n",
    "print(f\"{target_city15}: {lat}, {lng}\")\n"
   ]
  },
  {
   "cell_type": "code",
   "execution_count": 17,
   "id": "bd029667",
   "metadata": {},
   "outputs": [
    {
     "name": "stdout",
     "output_type": "stream",
     "text": [
      "Denver, Colorado: 39.2903848, -76.6121893\n"
     ]
    }
   ],
   "source": [
    "target_city16 = \"Denver, Colorado\"\n",
    "\n",
    "params = {\"address\": target_city6, \"key\": gkey}\n",
    "\n",
    "# Build URL using the Google Maps API\n",
    "base_url = \"https://maps.googleapis.com/maps/api/geocode/json\"\n",
    "\n",
    "\n",
    "# Run request\n",
    "response = requests.get(base_url, params=params)\n",
    "\n",
    "# print the response URL, avoid doing for public GitHub repos in order to avoid exposing key\n",
    "# print(response.url)\n",
    "\n",
    "# Convert to JSON\n",
    "Arlington_geo = response.json()\n",
    "\n",
    "# Extract lat/lng\n",
    "lat = Arlington_geo[\"results\"][0][\"geometry\"][\"location\"][\"lat\"]\n",
    "lng = Arlington_geo[\"results\"][0][\"geometry\"][\"location\"][\"lng\"]\n",
    "\n",
    "\n",
    "# Print results\n",
    "print(f\"{target_city16}: {lat}, {lng}\")\n"
   ]
  },
  {
   "cell_type": "code",
   "execution_count": 18,
   "id": "96c22c13",
   "metadata": {},
   "outputs": [
    {
     "name": "stdout",
     "output_type": "stream",
     "text": [
      "Detroit, Michigan: 42.331427, -83.0457538\n"
     ]
    }
   ],
   "source": [
    "target_city17 = \"Detroit, Michigan\"\n",
    "\n",
    "params = {\"address\": target_city17, \"key\": gkey}\n",
    "\n",
    "# Build URL using the Google Maps API\n",
    "base_url = \"https://maps.googleapis.com/maps/api/geocode/json\"\n",
    "\n",
    "\n",
    "# Run request\n",
    "response = requests.get(base_url, params=params)\n",
    "\n",
    "# print the response URL, avoid doing for public GitHub repos in order to avoid exposing key\n",
    "# print(response.url)\n",
    "\n",
    "# Convert to JSON\n",
    "Arlington_geo = response.json()\n",
    "\n",
    "# Extract lat/lng\n",
    "lat = Arlington_geo[\"results\"][0][\"geometry\"][\"location\"][\"lat\"]\n",
    "lng = Arlington_geo[\"results\"][0][\"geometry\"][\"location\"][\"lng\"]\n",
    "\n",
    "\n",
    "# Print results\n",
    "print(f\"{target_city17}: {lat}, {lng}\")\n"
   ]
  },
  {
   "cell_type": "code",
   "execution_count": 19,
   "id": "0eb41cac",
   "metadata": {},
   "outputs": [
    {
     "name": "stdout",
     "output_type": "stream",
     "text": [
      "Dover, Deleware: 39.158168, -75.5243682\n"
     ]
    }
   ],
   "source": [
    "target_city18 = \"Dover, Deleware\"\n",
    "\n",
    "params = {\"address\": target_city18, \"key\": gkey}\n",
    "\n",
    "# Build URL using the Google Maps API\n",
    "base_url = \"https://maps.googleapis.com/maps/api/geocode/json\"\n",
    "\n",
    "\n",
    "# Run request\n",
    "response = requests.get(base_url, params=params)\n",
    "\n",
    "# print the response URL, avoid doing for public GitHub repos in order to avoid exposing key\n",
    "# print(response.url)\n",
    "\n",
    "# Convert to JSON\n",
    "Arlington_geo = response.json()\n",
    "\n",
    "# Extract lat/lng\n",
    "lat = Arlington_geo[\"results\"][0][\"geometry\"][\"location\"][\"lat\"]\n",
    "lng = Arlington_geo[\"results\"][0][\"geometry\"][\"location\"][\"lng\"]\n",
    "\n",
    "\n",
    "# Print results\n",
    "print(f\"{target_city18}: {lat}, {lng}\")\n"
   ]
  },
  {
   "cell_type": "code",
   "execution_count": 20,
   "id": "d3d3020e",
   "metadata": {},
   "outputs": [
    {
     "name": "stdout",
     "output_type": "stream",
     "text": [
      "Elmira, New York: 42.0897965, -76.8077338\n"
     ]
    }
   ],
   "source": [
    "target_city19 = \"Elmira, New York\"\n",
    "\n",
    "params = {\"address\": target_city19, \"key\": gkey}\n",
    "\n",
    "# Build URL using the Google Maps API\n",
    "base_url = \"https://maps.googleapis.com/maps/api/geocode/json\"\n",
    "\n",
    "\n",
    "# Run request\n",
    "response = requests.get(base_url, params=params)\n",
    "\n",
    "# print the response URL, avoid doing for public GitHub repos in order to avoid exposing key\n",
    "# print(response.url)\n",
    "\n",
    "# Convert to JSON\n",
    "Arlington_geo = response.json()\n",
    "\n",
    "# Extract lat/lng\n",
    "lat = Arlington_geo[\"results\"][0][\"geometry\"][\"location\"][\"lat\"]\n",
    "lng = Arlington_geo[\"results\"][0][\"geometry\"][\"location\"][\"lng\"]\n",
    "\n",
    "\n",
    "# Print results\n",
    "print(f\"{target_city19}: {lat}, {lng}\")"
   ]
  },
  {
   "cell_type": "code",
   "execution_count": 21,
   "id": "80f2fb88",
   "metadata": {},
   "outputs": [
    {
     "name": "stdout",
     "output_type": "stream",
     "text": [
      "Fort Wayne, Indiana: 41.079273, -85.1393513\n"
     ]
    }
   ],
   "source": [
    "target_city20 = \"Fort Wayne, Indiana\"\n",
    "\n",
    "params = {\"address\": target_city20, \"key\": gkey}\n",
    "\n",
    "# Build URL using the Google Maps API\n",
    "base_url = \"https://maps.googleapis.com/maps/api/geocode/json\"\n",
    "\n",
    "\n",
    "# Run request\n",
    "response = requests.get(base_url, params=params)\n",
    "\n",
    "# print the response URL, avoid doing for public GitHub repos in order to avoid exposing key\n",
    "# print(response.url)\n",
    "\n",
    "# Convert to JSON\n",
    "Arlington_geo = response.json()\n",
    "\n",
    "# Extract lat/lng\n",
    "lat = Arlington_geo[\"results\"][0][\"geometry\"][\"location\"][\"lat\"]\n",
    "lng = Arlington_geo[\"results\"][0][\"geometry\"][\"location\"][\"lng\"]\n",
    "\n",
    "\n",
    "# Print results\n",
    "print(f\"{target_city20}: {lat}, {lng}\")"
   ]
  },
  {
   "cell_type": "code",
   "execution_count": 22,
   "id": "4801e586",
   "metadata": {},
   "outputs": [
    {
     "name": "stdout",
     "output_type": "stream",
     "text": [
      "Fort Bragg, North Carolina: 35.1414552, -79.0079949\n"
     ]
    }
   ],
   "source": [
    "target_city21 = \"Fort Bragg, North Carolina\"\n",
    "\n",
    "params = {\"address\": target_city21, \"key\": gkey}\n",
    "\n",
    "# Build URL using the Google Maps API\n",
    "base_url = \"https://maps.googleapis.com/maps/api/geocode/json\"\n",
    "\n",
    "\n",
    "# Run request\n",
    "response = requests.get(base_url, params=params)\n",
    "\n",
    "# print the response URL, avoid doing for public GitHub repos in order to avoid exposing key\n",
    "# print(response.url)\n",
    "\n",
    "# Convert to JSON\n",
    "Arlington_geo = response.json()\n",
    "\n",
    "# Extract lat/lng\n",
    "lat = Arlington_geo[\"results\"][0][\"geometry\"][\"location\"][\"lat\"]\n",
    "lng = Arlington_geo[\"results\"][0][\"geometry\"][\"location\"][\"lng\"]\n",
    "\n",
    "\n",
    "# Print results\n",
    "print(f\"{target_city21}: {lat}, {lng}\")"
   ]
  },
  {
   "cell_type": "code",
   "execution_count": null,
   "id": "74913373",
   "metadata": {},
   "outputs": [],
   "source": []
  },
  {
   "cell_type": "code",
   "execution_count": 23,
   "id": "e2bc4f61",
   "metadata": {},
   "outputs": [
    {
     "name": "stdout",
     "output_type": "stream",
     "text": [
      "Geauga Lake, Ohio: 41.3493617, -81.3736244\n"
     ]
    }
   ],
   "source": [
    "target_city22 = \"Geauga Lake, Ohio\"\n",
    "\n",
    "params = {\"address\": target_city22, \"key\": gkey}\n",
    "\n",
    "# Build URL using the Google Maps API\n",
    "base_url = \"https://maps.googleapis.com/maps/api/geocode/json\"\n",
    "\n",
    "\n",
    "# Run request\n",
    "response = requests.get(base_url, params=params)\n",
    "\n",
    "# print the response URL, avoid doing for public GitHub repos in order to avoid exposing key\n",
    "# print(response.url)\n",
    "\n",
    "# Convert to JSON\n",
    "Arlington_geo = response.json()\n",
    "\n",
    "# Extract lat/lng\n",
    "lat = Arlington_geo[\"results\"][0][\"geometry\"][\"location\"][\"lat\"]\n",
    "lng = Arlington_geo[\"results\"][0][\"geometry\"][\"location\"][\"lng\"]\n",
    "\n",
    "\n",
    "# Print results\n",
    "print(f\"{target_city22}: {lat}, {lng}\")"
   ]
  },
  {
   "cell_type": "code",
   "execution_count": 24,
   "id": "f16d1f0d",
   "metadata": {},
   "outputs": [
    {
     "name": "stdout",
     "output_type": "stream",
     "text": [
      "Gloucester City, New Jersey: 39.8917799, -75.1162863\n"
     ]
    }
   ],
   "source": [
    "target_city23 = \"Gloucester City, New Jersey\"\n",
    "\n",
    "params = {\"address\": target_city23, \"key\": gkey}\n",
    "\n",
    "# Build URL using the Google Maps API\n",
    "base_url = \"https://maps.googleapis.com/maps/api/geocode/json\"\n",
    "\n",
    "\n",
    "# Run request\n",
    "response = requests.get(base_url, params=params)\n",
    "\n",
    "# print the response URL, avoid doing for public GitHub repos in order to avoid exposing key\n",
    "# print(response.url)\n",
    "\n",
    "# Convert to JSON\n",
    "Arlington_geo = response.json()\n",
    "\n",
    "# Extract lat/lng\n",
    "lat = Arlington_geo[\"results\"][0][\"geometry\"][\"location\"][\"lat\"]\n",
    "lng = Arlington_geo[\"results\"][0][\"geometry\"][\"location\"][\"lng\"]\n",
    "\n",
    "\n",
    "# Print results\n",
    "print(f\"{target_city23}: {lat}, {lng}\")"
   ]
  },
  {
   "cell_type": "code",
   "execution_count": 25,
   "id": "71b4f923",
   "metadata": {},
   "outputs": [
    {
     "name": "stdout",
     "output_type": "stream",
     "text": [
      "Grand Rapids, Michigan: 42.9633599, -85.6680863\n"
     ]
    }
   ],
   "source": [
    "target_city24 = \"Grand Rapids, Michigan\"\n",
    "\n",
    "params = {\"address\": target_city24, \"key\": gkey}\n",
    "\n",
    "# Build URL using the Google Maps API\n",
    "base_url = \"https://maps.googleapis.com/maps/api/geocode/json\"\n",
    "\n",
    "\n",
    "# Run request\n",
    "response = requests.get(base_url, params=params)\n",
    "\n",
    "# print the response URL, avoid doing for public GitHub repos in order to avoid exposing key\n",
    "# print(response.url)\n",
    "\n",
    "# Convert to JSON\n",
    "Arlington_geo = response.json()\n",
    "\n",
    "# Extract lat/lng\n",
    "lat = Arlington_geo[\"results\"][0][\"geometry\"][\"location\"][\"lat\"]\n",
    "lng = Arlington_geo[\"results\"][0][\"geometry\"][\"location\"][\"lng\"]\n",
    "\n",
    "\n",
    "# Print results\n",
    "print(f\"{target_city24}: {lat}, {lng}\")"
   ]
  },
  {
   "cell_type": "code",
   "execution_count": 26,
   "id": "64c862ec",
   "metadata": {},
   "outputs": [
    {
     "name": "stdout",
     "output_type": "stream",
     "text": [
      "Harrison, New Jersey: 40.7464901, -74.1562551\n"
     ]
    }
   ],
   "source": [
    "target_city25 = \"Harrison, New Jersey\"\n",
    "\n",
    "params = {\"address\": target_city25, \"key\": gkey}\n",
    "\n",
    "# Build URL using the Google Maps API\n",
    "base_url = \"https://maps.googleapis.com/maps/api/geocode/json\"\n",
    "\n",
    "\n",
    "# Run request\n",
    "response = requests.get(base_url, params=params)\n",
    "\n",
    "# print the response URL, avoid doing for public GitHub repos in order to avoid exposing key\n",
    "# print(response.url)\n",
    "\n",
    "# Convert to JSON\n",
    "Arlington_geo = response.json()\n",
    "\n",
    "# Extract lat/lng\n",
    "lat = Arlington_geo[\"results\"][0][\"geometry\"][\"location\"][\"lat\"]\n",
    "lng = Arlington_geo[\"results\"][0][\"geometry\"][\"location\"][\"lng\"]\n",
    "\n",
    "\n",
    "# Print results\n",
    "print(f\"{target_city25}: {lat}, {lng}\")"
   ]
  },
  {
   "cell_type": "code",
   "execution_count": 27,
   "id": "60e3b359",
   "metadata": {},
   "outputs": [
    {
     "name": "stdout",
     "output_type": "stream",
     "text": [
      "Hoboken, New Jersey: 40.7439905, -74.0323626\n"
     ]
    }
   ],
   "source": [
    "target_city26 = \"Hoboken, New Jersey\"\n",
    "\n",
    "params = {\"address\": target_city26, \"key\": gkey}\n",
    "\n",
    "# Build URL using the Google Maps API\n",
    "base_url = \"https://maps.googleapis.com/maps/api/geocode/json\"\n",
    "\n",
    "\n",
    "# Run request\n",
    "response = requests.get(base_url, params=params)\n",
    "\n",
    "# print the response URL, avoid doing for public GitHub repos in order to avoid exposing key\n",
    "# print(response.url)\n",
    "\n",
    "# Convert to JSON\n",
    "Arlington_geo = response.json()\n",
    "\n",
    "# Extract lat/lng\n",
    "lat = Arlington_geo[\"results\"][0][\"geometry\"][\"location\"][\"lat\"]\n",
    "lng = Arlington_geo[\"results\"][0][\"geometry\"][\"location\"][\"lng\"]\n",
    "\n",
    "\n",
    "# Print results\n",
    "print(f\"{target_city26}: {lat}, {lng}\")"
   ]
  },
  {
   "cell_type": "code",
   "execution_count": 28,
   "id": "4ff171b7",
   "metadata": {},
   "outputs": [
    {
     "name": "stdout",
     "output_type": "stream",
     "text": [
      "Honolulu, Hawaii: 21.3069444, -157.8583333\n"
     ]
    }
   ],
   "source": [
    "target_city27 = \"Honolulu, Hawaii\"\n",
    "\n",
    "params = {\"address\": target_city27, \"key\": gkey}\n",
    "\n",
    "# Build URL using the Google Maps API\n",
    "base_url = \"https://maps.googleapis.com/maps/api/geocode/json\"\n",
    "\n",
    "\n",
    "# Run request\n",
    "response = requests.get(base_url, params=params)\n",
    "\n",
    "# print the response URL, avoid doing for public GitHub repos in order to avoid exposing key\n",
    "# print(response.url)\n",
    "\n",
    "# Convert to JSON\n",
    "Arlington_geo = response.json()\n",
    "\n",
    "# Extract lat/lng\n",
    "lat = Arlington_geo[\"results\"][0][\"geometry\"][\"location\"][\"lat\"]\n",
    "lng = Arlington_geo[\"results\"][0][\"geometry\"][\"location\"][\"lng\"]\n",
    "\n",
    "\n",
    "# Print results\n",
    "print(f\"{target_city27}: {lat}, {lng}\")"
   ]
  },
  {
   "cell_type": "code",
   "execution_count": 29,
   "id": "d0458067",
   "metadata": {},
   "outputs": [
    {
     "name": "stdout",
     "output_type": "stream",
     "text": [
      "Houston, Texas: 29.7604267, -95.3698028\n"
     ]
    }
   ],
   "source": [
    "target_city28 = \"Houston, Texas\"\n",
    "\n",
    "params = {\"address\": target_city28, \"key\": gkey}\n",
    "\n",
    "# Build URL using the Google Maps API\n",
    "base_url = \"https://maps.googleapis.com/maps/api/geocode/json\"\n",
    "\n",
    "\n",
    "# Run request\n",
    "response = requests.get(base_url, params=params)\n",
    "\n",
    "# print the response URL, avoid doing for public GitHub repos in order to avoid exposing key\n",
    "# print(response.url)\n",
    "\n",
    "# Convert to JSON\n",
    "Arlington_geo = response.json()\n",
    "\n",
    "# Extract lat/lng\n",
    "lat = Arlington_geo[\"results\"][0][\"geometry\"][\"location\"][\"lat\"]\n",
    "lng = Arlington_geo[\"results\"][0][\"geometry\"][\"location\"][\"lng\"]\n",
    "\n",
    "\n",
    "# Print results\n",
    "print(f\"{target_city28}: {lat}, {lng}\")"
   ]
  },
  {
   "cell_type": "code",
   "execution_count": 30,
   "id": "d130bff6",
   "metadata": {},
   "outputs": [
    {
     "name": "stdout",
     "output_type": "stream",
     "text": [
      "Hartford, Connecticut: 41.7658043, -72.6733723\n"
     ]
    }
   ],
   "source": [
    "target_city29 = \"Hartford, Connecticut\"\n",
    "\n",
    "params = {\"address\": target_city29, \"key\": gkey}\n",
    "\n",
    "# Build URL using the Google Maps API\n",
    "base_url = \"https://maps.googleapis.com/maps/api/geocode/json\"\n",
    "\n",
    "\n",
    "# Run request\n",
    "response = requests.get(base_url, params=params)\n",
    "\n",
    "# print the response URL, avoid doing for public GitHub repos in order to avoid exposing key\n",
    "# print(response.url)\n",
    "\n",
    "# Convert to JSON\n",
    "Arlington_geo = response.json()\n",
    "\n",
    "# Extract lat/lng\n",
    "lat = Arlington_geo[\"results\"][0][\"geometry\"][\"location\"][\"lat\"]\n",
    "lng = Arlington_geo[\"results\"][0][\"geometry\"][\"location\"][\"lng\"]\n",
    "\n",
    "\n",
    "# Print results\n",
    "print(f\"{target_city29}: {lat}, {lng}\")"
   ]
  },
  {
   "cell_type": "code",
   "execution_count": 31,
   "id": "4dee9842",
   "metadata": {},
   "outputs": [
    {
     "name": "stdout",
     "output_type": "stream",
     "text": [
      "Indianapolis, Indiana: 39.768403, -86.158068\n"
     ]
    }
   ],
   "source": [
    "target_city30 = \"Indianapolis, Indiana\"\n",
    "\n",
    "params = {\"address\": target_city30, \"key\": gkey}\n",
    "\n",
    "# Build URL using the Google Maps API\n",
    "base_url = \"https://maps.googleapis.com/maps/api/geocode/json\"\n",
    "\n",
    "\n",
    "# Run request\n",
    "response = requests.get(base_url, params=params)\n",
    "\n",
    "# print the response URL, avoid doing for public GitHub repos in order to avoid exposing key\n",
    "# print(response.url)\n",
    "\n",
    "# Convert to JSON\n",
    "Arlington_geo = response.json()\n",
    "\n",
    "# Extract lat/lng\n",
    "lat = Arlington_geo[\"results\"][0][\"geometry\"][\"location\"][\"lat\"]\n",
    "lng = Arlington_geo[\"results\"][0][\"geometry\"][\"location\"][\"lng\"]\n",
    "\n",
    "\n",
    "# Print results\n",
    "print(f\"{target_city30}: {lat}, {lng}\")"
   ]
  },
  {
   "cell_type": "code",
   "execution_count": 32,
   "id": "10a10f05",
   "metadata": {},
   "outputs": [
    {
     "name": "stdout",
     "output_type": "stream",
     "text": [
      "Jersey City, New Jersey: 40.7177545, -74.0431435\n"
     ]
    }
   ],
   "source": [
    "target_city31 = \"Jersey City, New Jersey\"\n",
    "\n",
    "params = {\"address\": target_city31, \"key\": gkey}\n",
    "\n",
    "# Build URL using the Google Maps API\n",
    "base_url = \"https://maps.googleapis.com/maps/api/geocode/json\"\n",
    "\n",
    "\n",
    "# Run request\n",
    "response = requests.get(base_url, params=params)\n",
    "\n",
    "# print the response URL, avoid doing for public GitHub repos in order to avoid exposing key\n",
    "# print(response.url)\n",
    "\n",
    "# Convert to JSON\n",
    "Arlington_geo = response.json()\n",
    "\n",
    "# Extract lat/lng\n",
    "lat = Arlington_geo[\"results\"][0][\"geometry\"][\"location\"][\"lat\"]\n",
    "lng = Arlington_geo[\"results\"][0][\"geometry\"][\"location\"][\"lng\"]\n",
    "\n",
    "\n",
    "# Print results\n",
    "print(f\"{target_city31}: {lat}, {lng}\")"
   ]
  },
  {
   "cell_type": "code",
   "execution_count": 33,
   "id": "c6c2c21d",
   "metadata": {},
   "outputs": [
    {
     "name": "stdout",
     "output_type": "stream",
     "text": [
      "Kansas City, Missouri: 39.0997265, -94.5785667\n"
     ]
    }
   ],
   "source": [
    "target_city32 = \"Kansas City, Missouri\"\n",
    "\n",
    "params = {\"address\": target_city32, \"key\": gkey}\n",
    "\n",
    "# Build URL using the Google Maps API\n",
    "base_url = \"https://maps.googleapis.com/maps/api/geocode/json\"\n",
    "\n",
    "\n",
    "# Run request\n",
    "response = requests.get(base_url, params=params)\n",
    "\n",
    "# print the response URL, avoid doing for public GitHub repos in order to avoid exposing key\n",
    "# print(response.url)\n",
    "\n",
    "# Convert to JSON\n",
    "Arlington_geo = response.json()\n",
    "\n",
    "# Extract lat/lng\n",
    "lat = Arlington_geo[\"results\"][0][\"geometry\"][\"location\"][\"lat\"]\n",
    "lng = Arlington_geo[\"results\"][0][\"geometry\"][\"location\"][\"lng\"]\n",
    "\n",
    "\n",
    "# Print results\n",
    "print(f\"{target_city32}: {lat}, {lng}\")"
   ]
  },
  {
   "cell_type": "code",
   "execution_count": 34,
   "id": "af30e48c",
   "metadata": {},
   "outputs": [
    {
     "name": "stdout",
     "output_type": "stream",
     "text": [
      "Keokuk, Iowa: 40.4044731, -91.3963966\n"
     ]
    }
   ],
   "source": [
    "target_city33 = \"Keokuk, Iowa\"\n",
    "\n",
    "params = {\"address\": target_city33, \"key\": gkey}\n",
    "\n",
    "# Build URL using the Google Maps API\n",
    "base_url = \"https://maps.googleapis.com/maps/api/geocode/json\"\n",
    "\n",
    "\n",
    "# Run request\n",
    "response = requests.get(base_url, params=params)\n",
    "\n",
    "# print the response URL, avoid doing for public GitHub repos in order to avoid exposing key\n",
    "# print(response.url)\n",
    "\n",
    "# Convert to JSON\n",
    "Arlington_geo = response.json()\n",
    "\n",
    "# Extract lat/lng\n",
    "lat = Arlington_geo[\"results\"][0][\"geometry\"][\"location\"][\"lat\"]\n",
    "lng = Arlington_geo[\"results\"][0][\"geometry\"][\"location\"][\"lng\"]\n",
    "\n",
    "\n",
    "# Print results\n",
    "print(f\"{target_city33}: {lat}, {lng}\")"
   ]
  },
  {
   "cell_type": "code",
   "execution_count": null,
   "id": "3f1bab04",
   "metadata": {},
   "outputs": [],
   "source": []
  },
  {
   "cell_type": "code",
   "execution_count": 35,
   "id": "2ad755ea",
   "metadata": {},
   "outputs": [
    {
     "name": "stdout",
     "output_type": "stream",
     "text": [
      "Las Vegas, Nevada: 36.1699412, -115.1398296\n"
     ]
    }
   ],
   "source": [
    "target_city34 = \"Las Vegas, Nevada\"\n",
    "\n",
    "params = {\"address\": target_city34, \"key\": gkey}\n",
    "\n",
    "# Build URL using the Google Maps API\n",
    "base_url = \"https://maps.googleapis.com/maps/api/geocode/json\"\n",
    "\n",
    "\n",
    "# Run request\n",
    "response = requests.get(base_url, params=params)\n",
    "\n",
    "# print the response URL, avoid doing for public GitHub repos in order to avoid exposing key\n",
    "# print(response.url)\n",
    "\n",
    "# Convert to JSON\n",
    "Arlington_geo = response.json()\n",
    "\n",
    "# Extract lat/lng\n",
    "lat = Arlington_geo[\"results\"][0][\"geometry\"][\"location\"][\"lat\"]\n",
    "lng = Arlington_geo[\"results\"][0][\"geometry\"][\"location\"][\"lng\"]\n",
    "\n",
    "\n",
    "# Print results\n",
    "print(f\"{target_city34}: {lat}, {lng}\")"
   ]
  },
  {
   "cell_type": "code",
   "execution_count": 36,
   "id": "62a5a0f0",
   "metadata": {},
   "outputs": [
    {
     "name": "stdout",
     "output_type": "stream",
     "text": [
      "Lake Buena Vista, Florida: 28.3695351, -81.5261474\n"
     ]
    }
   ],
   "source": [
    "target_city35 = \"Lake Buena Vista, Florida\"\n",
    "\n",
    "params = {\"address\": target_city35, \"key\": gkey}\n",
    "\n",
    "# Build URL using the Google Maps API\n",
    "base_url = \"https://maps.googleapis.com/maps/api/geocode/json\"\n",
    "\n",
    "\n",
    "# Run request\n",
    "response = requests.get(base_url, params=params)\n",
    "\n",
    "# print the response URL, avoid doing for public GitHub repos in order to avoid exposing key\n",
    "# print(response.url)\n",
    "\n",
    "# Convert to JSON\n",
    "Arlington_geo = response.json()\n",
    "\n",
    "# Extract lat/lng\n",
    "lat = Arlington_geo[\"results\"][0][\"geometry\"][\"location\"][\"lat\"]\n",
    "lng = Arlington_geo[\"results\"][0][\"geometry\"][\"location\"][\"lng\"]\n",
    "\n",
    "\n",
    "# Print results\n",
    "print(f\"{target_city35}: {lat}, {lng}\")"
   ]
  },
  {
   "cell_type": "code",
   "execution_count": 37,
   "id": "1874afcf",
   "metadata": {},
   "outputs": [
    {
     "name": "stdout",
     "output_type": "stream",
     "text": [
      "London, England: 51.5072178, -0.1275862\n"
     ]
    }
   ],
   "source": [
    "target_city36 = \"London, England\"\n",
    "\n",
    "params = {\"address\": target_city36, \"key\": gkey}\n",
    "\n",
    "# Build URL using the Google Maps API\n",
    "base_url = \"https://maps.googleapis.com/maps/api/geocode/json\"\n",
    "\n",
    "\n",
    "# Run request\n",
    "response = requests.get(base_url, params=params)\n",
    "\n",
    "# print the response URL, avoid doing for public GitHub repos in order to avoid exposing key\n",
    "# print(response.url)\n",
    "\n",
    "# Convert to JSON\n",
    "Arlington_geo = response.json()\n",
    "\n",
    "# Extract lat/lng\n",
    "lat = Arlington_geo[\"results\"][0][\"geometry\"][\"location\"][\"lat\"]\n",
    "lng = Arlington_geo[\"results\"][0][\"geometry\"][\"location\"][\"lng\"]\n",
    "\n",
    "\n",
    "# Print results\n",
    "print(f\"{target_city36}: {lat}, {lng}\")"
   ]
  },
  {
   "cell_type": "code",
   "execution_count": 38,
   "id": "9ef973f5",
   "metadata": {},
   "outputs": [
    {
     "name": "stdout",
     "output_type": "stream",
     "text": [
      "Los Angeles, California: 34.0522342, -118.2436849\n"
     ]
    }
   ],
   "source": [
    "target_city37 = \"Los Angeles, California\"\n",
    "\n",
    "params = {\"address\": target_city37, \"key\": gkey}\n",
    "\n",
    "# Build URL using the Google Maps API\n",
    "base_url = \"https://maps.googleapis.com/maps/api/geocode/json\"\n",
    "\n",
    "\n",
    "# Run request\n",
    "response = requests.get(base_url, params=params)\n",
    "\n",
    "# print the response URL, avoid doing for public GitHub repos in order to avoid exposing key\n",
    "# print(response.url)\n",
    "\n",
    "# Convert to JSON\n",
    "Arlington_geo = response.json()\n",
    "\n",
    "# Extract lat/lng\n",
    "lat = Arlington_geo[\"results\"][0][\"geometry\"][\"location\"][\"lat\"]\n",
    "lng = Arlington_geo[\"results\"][0][\"geometry\"][\"location\"][\"lng\"]\n",
    "\n",
    "\n",
    "# Print results\n",
    "print(f\"{target_city37}: {lat}, {lng}\")"
   ]
  },
  {
   "cell_type": "code",
   "execution_count": 39,
   "id": "72023b9b",
   "metadata": {},
   "outputs": [
    {
     "name": "stdout",
     "output_type": "stream",
     "text": [
      "Louisville, Kentucky: 38.2526647, -85.7584557\n"
     ]
    }
   ],
   "source": [
    "target_city38 = \"Louisville, Kentucky\"\n",
    "\n",
    "params = {\"address\": target_city38, \"key\": gkey}\n",
    "\n",
    "# Build URL using the Google Maps API\n",
    "base_url = \"https://maps.googleapis.com/maps/api/geocode/json\"\n",
    "\n",
    "\n",
    "# Run request\n",
    "response = requests.get(base_url, params=params)\n",
    "\n",
    "# print the response URL, avoid doing for public GitHub repos in order to avoid exposing key\n",
    "# print(response.url)\n",
    "\n",
    "# Convert to JSON\n",
    "Arlington_geo = response.json()\n",
    "\n",
    "# Extract lat/lng\n",
    "lat = Arlington_geo[\"results\"][0][\"geometry\"][\"location\"][\"lat\"]\n",
    "lng = Arlington_geo[\"results\"][0][\"geometry\"][\"location\"][\"lng\"]\n",
    "\n",
    "\n",
    "# Print results\n",
    "print(f\"{target_city38}: {lat}, {lng}\")"
   ]
  },
  {
   "cell_type": "code",
   "execution_count": 40,
   "id": "d7f2f973",
   "metadata": {},
   "outputs": [
    {
     "name": "stdout",
     "output_type": "stream",
     "text": [
      "Ludlow, Kentucky: 39.0925597, -84.5474435\n"
     ]
    }
   ],
   "source": [
    "target_city39 = \"Ludlow, Kentucky\"\n",
    "\n",
    "params = {\"address\": target_city39, \"key\": gkey}\n",
    "\n",
    "# Build URL using the Google Maps API\n",
    "base_url = \"https://maps.googleapis.com/maps/api/geocode/json\"\n",
    "\n",
    "\n",
    "# Run request\n",
    "response = requests.get(base_url, params=params)\n",
    "\n",
    "# print the response URL, avoid doing for public GitHub repos in order to avoid exposing key\n",
    "# print(response.url)\n",
    "\n",
    "# Convert to JSON\n",
    "Arlington_geo = response.json()\n",
    "\n",
    "# Extract lat/lng\n",
    "lat = Arlington_geo[\"results\"][0][\"geometry\"][\"location\"][\"lat\"]\n",
    "lng = Arlington_geo[\"results\"][0][\"geometry\"][\"location\"][\"lng\"]\n",
    "\n",
    "\n",
    "# Print results\n",
    "print(f\"{target_city39}: {lat}, {lng}\")"
   ]
  },
  {
   "cell_type": "code",
   "execution_count": 41,
   "id": "e9026a34",
   "metadata": {},
   "outputs": [
    {
     "name": "stdout",
     "output_type": "stream",
     "text": [
      "Miami, Florida: 25.7616798, -80.1917902\n"
     ]
    }
   ],
   "source": [
    "target_city40 = \"Miami, Florida\"\n",
    "\n",
    "params = {\"address\": target_city40, \"key\": gkey}\n",
    "\n",
    "# Build URL using the Google Maps API\n",
    "base_url = \"https://maps.googleapis.com/maps/api/geocode/json\"\n",
    "\n",
    "\n",
    "# Run request\n",
    "response = requests.get(base_url, params=params)\n",
    "\n",
    "# print the response URL, avoid doing for public GitHub repos in order to avoid exposing key\n",
    "# print(response.url)\n",
    "\n",
    "# Convert to JSON\n",
    "Arlington_geo = response.json()\n",
    "\n",
    "# Extract lat/lng\n",
    "lat = Arlington_geo[\"results\"][0][\"geometry\"][\"location\"][\"lat\"]\n",
    "lng = Arlington_geo[\"results\"][0][\"geometry\"][\"location\"][\"lng\"]\n",
    "\n",
    "\n",
    "# Print results\n",
    "print(f\"{target_city40}: {lat}, {lng}\")"
   ]
  },
  {
   "cell_type": "code",
   "execution_count": 42,
   "id": "1a4fe572",
   "metadata": {},
   "outputs": [
    {
     "name": "stdout",
     "output_type": "stream",
     "text": [
      "Milwaukee, Wisconsin: 43.0389025, -87.9064736\n"
     ]
    }
   ],
   "source": [
    "target_city41 = \"Milwaukee, Wisconsin\"\n",
    "\n",
    "params = {\"address\": target_city41, \"key\": gkey}\n",
    "\n",
    "# Build URL using the Google Maps API\n",
    "base_url = \"https://maps.googleapis.com/maps/api/geocode/json\"\n",
    "\n",
    "\n",
    "# Run request\n",
    "response = requests.get(base_url, params=params)\n",
    "\n",
    "# print the response URL, avoid doing for public GitHub repos in order to avoid exposing key\n",
    "# print(response.url)\n",
    "\n",
    "# Convert to JSON\n",
    "Arlington_geo = response.json()\n",
    "\n",
    "# Extract lat/lng\n",
    "lat = Arlington_geo[\"results\"][0][\"geometry\"][\"location\"][\"lat\"]\n",
    "lng = Arlington_geo[\"results\"][0][\"geometry\"][\"location\"][\"lng\"]\n",
    "\n",
    "\n",
    "# Print results\n",
    "print(f\"{target_city41}: {lat}, {lng}\")"
   ]
  },
  {
   "cell_type": "code",
   "execution_count": 43,
   "id": "b54a2524",
   "metadata": {},
   "outputs": [
    {
     "name": "stdout",
     "output_type": "stream",
     "text": [
      "Minneapolis, Minnesota: 44.977753, -93.2650108\n"
     ]
    }
   ],
   "source": [
    "target_city42 = \"Minneapolis, Minnesota\"\n",
    "\n",
    "params = {\"address\": target_city42, \"key\": gkey}\n",
    "\n",
    "# Build URL using the Google Maps API\n",
    "base_url = \"https://maps.googleapis.com/maps/api/geocode/json\"\n",
    "\n",
    "\n",
    "# Run request\n",
    "response = requests.get(base_url, params=params)\n",
    "\n",
    "# print the response URL, avoid doing for public GitHub repos in order to avoid exposing key\n",
    "# print(response.url)\n",
    "\n",
    "# Convert to JSON\n",
    "Arlington_geo = response.json()\n",
    "\n",
    "# Extract lat/lng\n",
    "lat = Arlington_geo[\"results\"][0][\"geometry\"][\"location\"][\"lat\"]\n",
    "lng = Arlington_geo[\"results\"][0][\"geometry\"][\"location\"][\"lng\"]\n",
    "\n",
    "\n",
    "# Print results\n",
    "print(f\"{target_city42}: {lat}, {lng}\")"
   ]
  },
  {
   "cell_type": "code",
   "execution_count": 44,
   "id": "c802b9b7",
   "metadata": {},
   "outputs": [
    {
     "name": "stdout",
     "output_type": "stream",
     "text": [
      "Monterrey, Nuevo Leon: 25.6866142, -100.3161126\n"
     ]
    }
   ],
   "source": [
    "target_city43 = \"Monterrey, Nuevo Leon\"\n",
    "\n",
    "params = {\"address\": target_city43, \"key\": gkey}\n",
    "\n",
    "# Build URL using the Google Maps API\n",
    "base_url = \"https://maps.googleapis.com/maps/api/geocode/json\"\n",
    "\n",
    "\n",
    "# Run request\n",
    "response = requests.get(base_url, params=params)\n",
    "\n",
    "# print the response URL, avoid doing for public GitHub repos in order to avoid exposing key\n",
    "# print(response.url)\n",
    "\n",
    "# Convert to JSON\n",
    "Arlington_geo = response.json()\n",
    "\n",
    "# Extract lat/lng\n",
    "lat = Arlington_geo[\"results\"][0][\"geometry\"][\"location\"][\"lat\"]\n",
    "lng = Arlington_geo[\"results\"][0][\"geometry\"][\"location\"][\"lng\"]\n",
    "\n",
    "\n",
    "# Print results\n",
    "print(f\"{target_city43}: {lat}, {lng}\")"
   ]
  },
  {
   "cell_type": "code",
   "execution_count": 45,
   "id": "ecec8db1",
   "metadata": {},
   "outputs": [
    {
     "name": "stdout",
     "output_type": "stream",
     "text": [
      "Montreal, Quebec: 45.5016889, -73.567256\n"
     ]
    }
   ],
   "source": [
    "target_city44 = \"Montreal, Quebec\"\n",
    "\n",
    "params = {\"address\": target_city44, \"key\": gkey}\n",
    "\n",
    "# Build URL using the Google Maps API\n",
    "base_url = \"https://maps.googleapis.com/maps/api/geocode/json\"\n",
    "\n",
    "\n",
    "# Run request\n",
    "response = requests.get(base_url, params=params)\n",
    "\n",
    "# print the response URL, avoid doing for public GitHub repos in order to avoid exposing key\n",
    "# print(response.url)\n",
    "\n",
    "# Convert to JSON\n",
    "Arlington_geo = response.json()\n",
    "\n",
    "# Extract lat/lng\n",
    "lat = Arlington_geo[\"results\"][0][\"geometry\"][\"location\"][\"lat\"]\n",
    "lng = Arlington_geo[\"results\"][0][\"geometry\"][\"location\"][\"lng\"]\n",
    "\n",
    "\n",
    "# Print results\n",
    "print(f\"{target_city44}: {lat}, {lng}\")"
   ]
  },
  {
   "cell_type": "code",
   "execution_count": 46,
   "id": "756ac4e5",
   "metadata": {},
   "outputs": [
    {
     "name": "stdout",
     "output_type": "stream",
     "text": [
      "New Haven, Connecticut: 41.308274, -72.9278835\n"
     ]
    }
   ],
   "source": [
    "target_city45 = \"New Haven, Connecticut\"\n",
    "\n",
    "params = {\"address\": target_city45, \"key\": gkey}\n",
    "\n",
    "# Build URL using the Google Maps API\n",
    "base_url = \"https://maps.googleapis.com/maps/api/geocode/json\"\n",
    "\n",
    "\n",
    "# Run request\n",
    "response = requests.get(base_url, params=params)\n",
    "\n",
    "# print the response URL, avoid doing for public GitHub repos in order to avoid exposing key\n",
    "# print(response.url)\n",
    "\n",
    "# Convert to JSON\n",
    "Arlington_geo = response.json()\n",
    "\n",
    "# Extract lat/lng\n",
    "lat = Arlington_geo[\"results\"][0][\"geometry\"][\"location\"][\"lat\"]\n",
    "lng = Arlington_geo[\"results\"][0][\"geometry\"][\"location\"][\"lng\"]\n",
    "\n",
    "\n",
    "# Print results\n",
    "print(f\"{target_city45}: {lat}, {lng}\")"
   ]
  },
  {
   "cell_type": "code",
   "execution_count": 47,
   "id": "918d383a",
   "metadata": {},
   "outputs": [
    {
     "name": "stdout",
     "output_type": "stream",
     "text": [
      "Brooklyn, New York: 40.6781784, -73.9441579\n"
     ]
    }
   ],
   "source": [
    "target_city46 = \"Brooklyn, New York\"\n",
    "\n",
    "params = {\"address\": target_city46, \"key\": gkey}\n",
    "\n",
    "# Build URL using the Google Maps API\n",
    "base_url = \"https://maps.googleapis.com/maps/api/geocode/json\"\n",
    "\n",
    "\n",
    "# Run request\n",
    "response = requests.get(base_url, params=params)\n",
    "\n",
    "# print the response URL, avoid doing for public GitHub repos in order to avoid exposing key\n",
    "# print(response.url)\n",
    "\n",
    "# Convert to JSON\n",
    "Arlington_geo = response.json()\n",
    "\n",
    "# Extract lat/lng\n",
    "lat = Arlington_geo[\"results\"][0][\"geometry\"][\"location\"][\"lat\"]\n",
    "lng = Arlington_geo[\"results\"][0][\"geometry\"][\"location\"][\"lng\"]\n",
    "\n",
    "\n",
    "# Print results\n",
    "print(f\"{target_city46}: {lat}, {lng}\")"
   ]
  },
  {
   "cell_type": "code",
   "execution_count": 48,
   "id": "02f84014",
   "metadata": {},
   "outputs": [
    {
     "name": "stdout",
     "output_type": "stream",
     "text": [
      "Queens, New York: 40.7282239, -73.7948516\n"
     ]
    }
   ],
   "source": [
    "target_city47 = \"Queens, New York\"\n",
    "\n",
    "params = {\"address\": target_city47, \"key\": gkey}\n",
    "\n",
    "# Build URL using the Google Maps API\n",
    "base_url = \"https://maps.googleapis.com/maps/api/geocode/json\"\n",
    "\n",
    "\n",
    "# Run request\n",
    "response = requests.get(base_url, params=params)\n",
    "\n",
    "# print the response URL, avoid doing for public GitHub repos in order to avoid exposing key\n",
    "# print(response.url)\n",
    "\n",
    "# Convert to JSON\n",
    "Arlington_geo = response.json()\n",
    "\n",
    "# Extract lat/lng\n",
    "lat = Arlington_geo[\"results\"][0][\"geometry\"][\"location\"][\"lat\"]\n",
    "lng = Arlington_geo[\"results\"][0][\"geometry\"][\"location\"][\"lng\"]\n",
    "\n",
    "\n",
    "# Print results\n",
    "print(f\"{target_city47}: {lat}, {lng}\")"
   ]
  },
  {
   "cell_type": "code",
   "execution_count": 49,
   "id": "d4b624c9",
   "metadata": {},
   "outputs": [
    {
     "name": "stdout",
     "output_type": "stream",
     "text": [
      "New York, New York: 37.4174063, -95.6820018\n"
     ]
    }
   ],
   "source": [
    "target_city48 = \"New York, New York\"\n",
    "\n",
    "params = {\"address\": target_city48, \"key\": gkey}\n",
    "\n",
    "# Build URL using the Google Maps API\n",
    "base_url = \"https://maps.googleapis.com/maps/api/geocode/json\"\n",
    "\n",
    "\n",
    "# Run request\n",
    "response = requests.get(base_url, params=params)\n",
    "\n",
    "# print the response URL, avoid doing for public GitHub repos in order to avoid exposing key\n",
    "# print(response.url)\n",
    "\n",
    "# Convert to JSON\n",
    "Arlington_geo = response.json()\n",
    "\n",
    "# Extract lat/lng\n",
    "lat = Arlington_geo[\"results\"][0][\"geometry\"][\"location\"][\"lat\"]\n",
    "lng = Arlington_geo[\"results\"][0][\"geometry\"][\"location\"][\"lng\"]\n",
    "\n",
    "\n",
    "# Print results\n",
    "print(f\"{target_city48}: {lat}, {lng}\")"
   ]
  },
  {
   "cell_type": "code",
   "execution_count": null,
   "id": "081b90af",
   "metadata": {},
   "outputs": [],
   "source": []
  },
  {
   "cell_type": "code",
   "execution_count": 50,
   "id": "356fa758",
   "metadata": {},
   "outputs": [
    {
     "name": "stdout",
     "output_type": "stream",
     "text": [
      "Oakland, California: 37.8043514, -122.2711639\n"
     ]
    }
   ],
   "source": [
    "target_city49 = \"Oakland, California\"\n",
    "\n",
    "params = {\"address\": target_city49, \"key\": gkey}\n",
    "\n",
    "# Build URL using the Google Maps API\n",
    "base_url = \"https://maps.googleapis.com/maps/api/geocode/json\"\n",
    "\n",
    "\n",
    "# Run request\n",
    "response = requests.get(base_url, params=params)\n",
    "\n",
    "# print the response URL, avoid doing for public GitHub repos in order to avoid exposing key\n",
    "# print(response.url)\n",
    "\n",
    "# Convert to JSON\n",
    "Arlington_geo = response.json()\n",
    "\n",
    "# Extract lat/lng\n",
    "lat = Arlington_geo[\"results\"][0][\"geometry\"][\"location\"][\"lat\"]\n",
    "lng = Arlington_geo[\"results\"][0][\"geometry\"][\"location\"][\"lng\"]\n",
    "\n",
    "\n",
    "# Print results\n",
    "print(f\"{target_city49}: {lat}, {lng}\")"
   ]
  },
  {
   "cell_type": "code",
   "execution_count": 51,
   "id": "ddde0a38",
   "metadata": {},
   "outputs": [
    {
     "name": "stdout",
     "output_type": "stream",
     "text": [
      "Omaha, Nebraska: 41.2565369, -95.9345034\n"
     ]
    }
   ],
   "source": [
    "target_city50 = \"Omaha, Nebraska\"\n",
    "\n",
    "params = {\"address\": target_city50, \"key\": gkey}\n",
    "\n",
    "# Build URL using the Google Maps API\n",
    "base_url = \"https://maps.googleapis.com/maps/api/geocode/json\"\n",
    "\n",
    "\n",
    "# Run request\n",
    "response = requests.get(base_url, params=params)\n",
    "\n",
    "# print the response URL, avoid doing for public GitHub repos in order to avoid exposing key\n",
    "# print(response.url)\n",
    "\n",
    "# Convert to JSON\n",
    "Arlington_geo = response.json()\n",
    "\n",
    "# Extract lat/lng\n",
    "lat = Arlington_geo[\"results\"][0][\"geometry\"][\"location\"][\"lat\"]\n",
    "lng = Arlington_geo[\"results\"][0][\"geometry\"][\"location\"][\"lng\"]\n",
    "\n",
    "\n",
    "# Print results\n",
    "print(f\"{target_city50}: {lat}, {lng}\")"
   ]
  },
  {
   "cell_type": "code",
   "execution_count": 52,
   "id": "fc00a9fb",
   "metadata": {},
   "outputs": [
    {
     "name": "stdout",
     "output_type": "stream",
     "text": [
      "Philidalphia, Pennsylvania: 39.9525839, -75.1652215\n"
     ]
    }
   ],
   "source": [
    "target_city51 = \"Philidalphia, Pennsylvania\"\n",
    "\n",
    "params = {\"address\": target_city51, \"key\": gkey}\n",
    "\n",
    "# Build URL using the Google Maps API\n",
    "base_url = \"https://maps.googleapis.com/maps/api/geocode/json\"\n",
    "\n",
    "\n",
    "# Run request\n",
    "response = requests.get(base_url, params=params)\n",
    "\n",
    "# print the response URL, avoid doing for public GitHub repos in order to avoid exposing key\n",
    "# print(response.url)\n",
    "\n",
    "# Convert to JSON\n",
    "Arlington_geo = response.json()\n",
    "\n",
    "# Extract lat/lng\n",
    "lat = Arlington_geo[\"results\"][0][\"geometry\"][\"location\"][\"lat\"]\n",
    "lng = Arlington_geo[\"results\"][0][\"geometry\"][\"location\"][\"lng\"]\n",
    "\n",
    "\n",
    "# Print results\n",
    "print(f\"{target_city51}: {lat}, {lng}\")"
   ]
  },
  {
   "cell_type": "code",
   "execution_count": 53,
   "id": "535768cc",
   "metadata": {},
   "outputs": [
    {
     "name": "stdout",
     "output_type": "stream",
     "text": [
      "Pittsburgh, Pennsylvania: 40.44062479999999, -79.9958864\n"
     ]
    }
   ],
   "source": [
    "target_city52 = \"Pittsburgh, Pennsylvania\"\n",
    "\n",
    "params = {\"address\": target_city52, \"key\": gkey}\n",
    "\n",
    "# Build URL using the Google Maps API\n",
    "base_url = \"https://maps.googleapis.com/maps/api/geocode/json\"\n",
    "\n",
    "\n",
    "# Run request\n",
    "response = requests.get(base_url, params=params)\n",
    "\n",
    "# print the response URL, avoid doing for public GitHub repos in order to avoid exposing key\n",
    "# print(response.url)\n",
    "\n",
    "# Convert to JSON\n",
    "Arlington_geo = response.json()\n",
    "\n",
    "# Extract lat/lng\n",
    "lat = Arlington_geo[\"results\"][0][\"geometry\"][\"location\"][\"lat\"]\n",
    "lng = Arlington_geo[\"results\"][0][\"geometry\"][\"location\"][\"lng\"]\n",
    "\n",
    "\n",
    "# Print results\n",
    "print(f\"{target_city52}: {lat}, {lng}\")"
   ]
  },
  {
   "cell_type": "code",
   "execution_count": 54,
   "id": "bdc51e51",
   "metadata": {},
   "outputs": [
    {
     "name": "stdout",
     "output_type": "stream",
     "text": [
      "Pheonix, Arizona: 33.4483771, -112.0740373\n"
     ]
    }
   ],
   "source": [
    "target_city53 = \"Pheonix, Arizona\"\n",
    "\n",
    "params = {\"address\": target_city53, \"key\": gkey}\n",
    "\n",
    "# Build URL using the Google Maps API\n",
    "base_url = \"https://maps.googleapis.com/maps/api/geocode/json\"\n",
    "\n",
    "\n",
    "# Run request\n",
    "response = requests.get(base_url, params=params)\n",
    "\n",
    "# print the response URL, avoid doing for public GitHub repos in order to avoid exposing key\n",
    "# print(response.url)\n",
    "\n",
    "# Convert to JSON\n",
    "Arlington_geo = response.json()\n",
    "\n",
    "# Extract lat/lng\n",
    "lat = Arlington_geo[\"results\"][0][\"geometry\"][\"location\"][\"lat\"]\n",
    "lng = Arlington_geo[\"results\"][0][\"geometry\"][\"location\"][\"lng\"]\n",
    "\n",
    "\n",
    "# Print results\n",
    "print(f\"{target_city53}: {lat}, {lng}\")"
   ]
  },
  {
   "cell_type": "code",
   "execution_count": 55,
   "id": "20a6fed4",
   "metadata": {},
   "outputs": [
    {
     "name": "stdout",
     "output_type": "stream",
     "text": [
      "Richmond, Virginia: 37.5407246, -77.4360481\n"
     ]
    }
   ],
   "source": [
    "target_city54 = \"Richmond, Virginia\"\n",
    "\n",
    "params = {\"address\": target_city54, \"key\": gkey}\n",
    "\n",
    "# Build URL using the Google Maps API\n",
    "base_url = \"https://maps.googleapis.com/maps/api/geocode/json\"\n",
    "\n",
    "\n",
    "# Run request\n",
    "response = requests.get(base_url, params=params)\n",
    "\n",
    "# print the response URL, avoid doing for public GitHub repos in order to avoid exposing key\n",
    "# print(response.url)\n",
    "\n",
    "# Convert to JSON\n",
    "Arlington_geo = response.json()\n",
    "\n",
    "# Extract lat/lng\n",
    "lat = Arlington_geo[\"results\"][0][\"geometry\"][\"location\"][\"lat\"]\n",
    "lng = Arlington_geo[\"results\"][0][\"geometry\"][\"location\"][\"lng\"]\n",
    "\n",
    "\n",
    "# Print results\n",
    "print(f\"{target_city54}: {lat}, {lng}\")"
   ]
  },
  {
   "cell_type": "code",
   "execution_count": 56,
   "id": "4f5d716c",
   "metadata": {},
   "outputs": [
    {
     "name": "stdout",
     "output_type": "stream",
     "text": [
      "San Diego, California: 32.715738, -117.1610838\n"
     ]
    }
   ],
   "source": [
    "target_city55 = \"San Diego, California\"\n",
    "\n",
    "params = {\"address\": target_city55, \"key\": gkey}\n",
    "\n",
    "# Build URL using the Google Maps API\n",
    "base_url = \"https://maps.googleapis.com/maps/api/geocode/json\"\n",
    "\n",
    "\n",
    "# Run request\n",
    "response = requests.get(base_url, params=params)\n",
    "\n",
    "# print the response URL, avoid doing for public GitHub repos in order to avoid exposing key\n",
    "# print(response.url)\n",
    "\n",
    "# Convert to JSON\n",
    "Arlington_geo = response.json()\n",
    "\n",
    "# Extract lat/lng\n",
    "lat = Arlington_geo[\"results\"][0][\"geometry\"][\"location\"][\"lat\"]\n",
    "lng = Arlington_geo[\"results\"][0][\"geometry\"][\"location\"][\"lng\"]\n",
    "\n",
    "\n",
    "# Print results\n",
    "print(f\"{target_city55}: {lat}, {lng}\")"
   ]
  },
  {
   "cell_type": "code",
   "execution_count": 57,
   "id": "0f1b9019",
   "metadata": {},
   "outputs": [
    {
     "name": "stdout",
     "output_type": "stream",
     "text": [
      "Seattle, Washington: 47.6062095, -122.3320708\n"
     ]
    }
   ],
   "source": [
    "target_city56 = \"Seattle, Washington\"\n",
    "\n",
    "params = {\"address\": target_city56, \"key\": gkey}\n",
    "\n",
    "# Build URL using the Google Maps API\n",
    "base_url = \"https://maps.googleapis.com/maps/api/geocode/json\"\n",
    "\n",
    "\n",
    "# Run request\n",
    "response = requests.get(base_url, params=params)\n",
    "\n",
    "# print the response URL, avoid doing for public GitHub repos in order to avoid exposing key\n",
    "# print(response.url)\n",
    "\n",
    "# Convert to JSON\n",
    "Arlington_geo = response.json()\n",
    "\n",
    "# Extract lat/lng\n",
    "lat = Arlington_geo[\"results\"][0][\"geometry\"][\"location\"][\"lat\"]\n",
    "lng = Arlington_geo[\"results\"][0][\"geometry\"][\"location\"][\"lng\"]\n",
    "\n",
    "\n",
    "# Print results\n",
    "print(f\"{target_city56}: {lat}, {lng}\")"
   ]
  },
  {
   "cell_type": "code",
   "execution_count": 58,
   "id": "3d73faf6",
   "metadata": {},
   "outputs": [
    {
     "name": "stdout",
     "output_type": "stream",
     "text": [
      "San Fransico, California: 37.7749295, -122.4194155\n"
     ]
    }
   ],
   "source": [
    "target_city57 = \"San Fransico, California\"\n",
    "\n",
    "params = {\"address\": target_city57, \"key\": gkey}\n",
    "\n",
    "# Build URL using the Google Maps API\n",
    "base_url = \"https://maps.googleapis.com/maps/api/geocode/json\"\n",
    "\n",
    "\n",
    "# Run request\n",
    "response = requests.get(base_url, params=params)\n",
    "\n",
    "# print the response URL, avoid doing for public GitHub repos in order to avoid exposing key\n",
    "# print(response.url)\n",
    "\n",
    "# Convert to JSON\n",
    "Arlington_geo = response.json()\n",
    "\n",
    "# Extract lat/lng\n",
    "lat = Arlington_geo[\"results\"][0][\"geometry\"][\"location\"][\"lat\"]\n",
    "lng = Arlington_geo[\"results\"][0][\"geometry\"][\"location\"][\"lng\"]\n",
    "\n",
    "\n",
    "# Print results\n",
    "print(f\"{target_city57}: {lat}, {lng}\")"
   ]
  },
  {
   "cell_type": "code",
   "execution_count": 59,
   "id": "c555603b",
   "metadata": {},
   "outputs": [
    {
     "name": "stdout",
     "output_type": "stream",
     "text": [
      "San Juan, Puerto Rico: 18.4655394, -66.1057355\n"
     ]
    }
   ],
   "source": [
    "target_city58 = \"San Juan, Puerto Rico\"\n",
    "\n",
    "params = {\"address\": target_city58, \"key\": gkey}\n",
    "\n",
    "# Build URL using the Google Maps API\n",
    "base_url = \"https://maps.googleapis.com/maps/api/geocode/json\"\n",
    "\n",
    "\n",
    "# Run request\n",
    "response = requests.get(base_url, params=params)\n",
    "\n",
    "# print the response URL, avoid doing for public GitHub repos in order to avoid exposing key\n",
    "# print(response.url)\n",
    "\n",
    "# Convert to JSON\n",
    "Arlington_geo = response.json()\n",
    "\n",
    "# Extract lat/lng\n",
    "lat = Arlington_geo[\"results\"][0][\"geometry\"][\"location\"][\"lat\"]\n",
    "lng = Arlington_geo[\"results\"][0][\"geometry\"][\"location\"][\"lng\"]\n",
    "\n",
    "\n",
    "# Print results\n",
    "print(f\"{target_city58}: {lat}, {lng}\")"
   ]
  },
  {
   "cell_type": "code",
   "execution_count": 60,
   "id": "01b3c891",
   "metadata": {},
   "outputs": [
    {
     "name": "stdout",
     "output_type": "stream",
     "text": [
      "St. Louis, Missouri: 38.6270025, -90.19940419999999\n"
     ]
    }
   ],
   "source": [
    "target_city59 = \"St. Louis, Missouri\"\n",
    "\n",
    "params = {\"address\": target_city59, \"key\": gkey}\n",
    "\n",
    "# Build URL using the Google Maps API\n",
    "base_url = \"https://maps.googleapis.com/maps/api/geocode/json\"\n",
    "\n",
    "\n",
    "# Run request\n",
    "response = requests.get(base_url, params=params)\n",
    "\n",
    "# print the response URL, avoid doing for public GitHub repos in order to avoid exposing key\n",
    "# print(response.url)\n",
    "\n",
    "# Convert to JSON\n",
    "Arlington_geo = response.json()\n",
    "\n",
    "# Extract lat/lng\n",
    "lat = Arlington_geo[\"results\"][0][\"geometry\"][\"location\"][\"lat\"]\n",
    "lng = Arlington_geo[\"results\"][0][\"geometry\"][\"location\"][\"lng\"]\n",
    "\n",
    "\n",
    "# Print results\n",
    "print(f\"{target_city59}: {lat}, {lng}\")"
   ]
  },
  {
   "cell_type": "code",
   "execution_count": null,
   "id": "144eb2e2",
   "metadata": {},
   "outputs": [],
   "source": []
  },
  {
   "cell_type": "code",
   "execution_count": 61,
   "id": "9b95b7c6",
   "metadata": {},
   "outputs": [
    {
     "name": "stdout",
     "output_type": "stream",
     "text": [
      "Sydney, Australia: -33.8688197, 151.2092955\n"
     ]
    }
   ],
   "source": [
    "target_city60 = \"Sydney, Australia\"\n",
    "\n",
    "params = {\"address\": target_city60, \"key\": gkey}\n",
    "\n",
    "# Build URL using the Google Maps API\n",
    "base_url = \"https://maps.googleapis.com/maps/api/geocode/json\"\n",
    "\n",
    "\n",
    "# Run request\n",
    "response = requests.get(base_url, params=params)\n",
    "\n",
    "# print the response URL, avoid doing for public GitHub repos in order to avoid exposing key\n",
    "# print(response.url)\n",
    "\n",
    "# Convert to JSON\n",
    "Arlington_geo = response.json()\n",
    "\n",
    "# Extract lat/lng\n",
    "lat = Arlington_geo[\"results\"][0][\"geometry\"][\"location\"][\"lat\"]\n",
    "lng = Arlington_geo[\"results\"][0][\"geometry\"][\"location\"][\"lng\"]\n",
    "\n",
    "\n",
    "# Print results\n",
    "print(f\"{target_city60}: {lat}, {lng}\")"
   ]
  },
  {
   "cell_type": "code",
   "execution_count": 62,
   "id": "c4ce0b0e",
   "metadata": {},
   "outputs": [
    {
     "name": "stdout",
     "output_type": "stream",
     "text": [
      "Tokyo, Japan: 35.6761919, 139.6503106\n"
     ]
    }
   ],
   "source": [
    "target_city61 = \"Tokyo, Japan\"\n",
    "\n",
    "params = {\"address\": target_city61, \"key\": gkey}\n",
    "\n",
    "# Build URL using the Google Maps API\n",
    "base_url = \"https://maps.googleapis.com/maps/api/geocode/json\"\n",
    "\n",
    "\n",
    "# Run request\n",
    "response = requests.get(base_url, params=params)\n",
    "\n",
    "# print the response URL, avoid doing for public GitHub repos in order to avoid exposing key\n",
    "# print(response.url)\n",
    "\n",
    "# Convert to JSON\n",
    "Arlington_geo = response.json()\n",
    "\n",
    "# Extract lat/lng\n",
    "lat = Arlington_geo[\"results\"][0][\"geometry\"][\"location\"][\"lat\"]\n",
    "lng = Arlington_geo[\"results\"][0][\"geometry\"][\"location\"][\"lng\"]\n",
    "\n",
    "\n",
    "# Print results\n",
    "print(f\"{target_city61}: {lat}, {lng}\")"
   ]
  },
  {
   "cell_type": "code",
   "execution_count": 63,
   "id": "15261c70",
   "metadata": {},
   "outputs": [
    {
     "name": "stdout",
     "output_type": "stream",
     "text": [
      "Warwick, Rhode Island: 41.7001009, -71.4161671\n"
     ]
    }
   ],
   "source": [
    "target_city62 = \"Warwick, Rhode Island\"\n",
    "\n",
    "params = {\"address\": target_city62, \"key\": gkey}\n",
    "\n",
    "# Build URL using the Google Maps API\n",
    "base_url = \"https://maps.googleapis.com/maps/api/geocode/json\"\n",
    "\n",
    "\n",
    "# Run request\n",
    "response = requests.get(base_url, params=params)\n",
    "\n",
    "# print the response URL, avoid doing for public GitHub repos in order to avoid exposing key\n",
    "# print(response.url)\n",
    "\n",
    "# Convert to JSON\n",
    "Arlington_geo = response.json()\n",
    "\n",
    "# Extract lat/lng\n",
    "lat = Arlington_geo[\"results\"][0][\"geometry\"][\"location\"][\"lat\"]\n",
    "lng = Arlington_geo[\"results\"][0][\"geometry\"][\"location\"][\"lng\"]\n",
    "\n",
    "\n",
    "# Print results\n",
    "print(f\"{target_city62}: {lat}, {lng}\")"
   ]
  },
  {
   "cell_type": "code",
   "execution_count": 64,
   "id": "c31fe8f3",
   "metadata": {},
   "outputs": [
    {
     "name": "stdout",
     "output_type": "stream",
     "text": [
      "Washington, DC: 38.9071923, -77.0368707\n"
     ]
    }
   ],
   "source": [
    "target_city63 = \"Washington, DC\"\n",
    "\n",
    "params = {\"address\": target_city63, \"key\": gkey}\n",
    "\n",
    "# Build URL using the Google Maps API\n",
    "base_url = \"https://maps.googleapis.com/maps/api/geocode/json\"\n",
    "\n",
    "\n",
    "# Run request\n",
    "response = requests.get(base_url, params=params)\n",
    "\n",
    "# print the response URL, avoid doing for public GitHub repos in order to avoid exposing key\n",
    "# print(response.url)\n",
    "\n",
    "# Convert to JSON\n",
    "Arlington_geo = response.json()\n",
    "\n",
    "# Extract lat/lng\n",
    "lat = Arlington_geo[\"results\"][0][\"geometry\"][\"location\"][\"lat\"]\n",
    "lng = Arlington_geo[\"results\"][0][\"geometry\"][\"location\"][\"lng\"]\n",
    "\n",
    "\n",
    "# Print results\n",
    "print(f\"{target_city63}: {lat}, {lng}\")"
   ]
  },
  {
   "cell_type": "code",
   "execution_count": null,
   "id": "38155210",
   "metadata": {},
   "outputs": [],
   "source": []
  },
  {
   "cell_type": "code",
   "execution_count": null,
   "id": "816509ca",
   "metadata": {},
   "outputs": [],
   "source": []
  },
  {
   "cell_type": "code",
   "execution_count": 65,
   "id": "0ef3293e",
   "metadata": {},
   "outputs": [],
   "source": [
    "# Create a list containing coordinates\n",
    "coordinates = [\n",
    "    (33.8365932, -117.9143012),\n",
    "    (32.7766642, -96.79698789999999),\n",
    "    (42.6525793, -73.7562317),\n",
    "    (40.573394, -74.13145),\n",
    "    (33.7489954, -84.3879824),\n",
    "    (39.2903848, -76.6121893),\n",
    "    (42.3600825, -71.0588801),\n",
    "    (42.88644679999999, -78.8783689),\n",
    "    (40.79894729999999, -81.378447),\n",
    "    (41.8781136, -87.6297982),\n",
    "    (39.1031182, -84.5120196),\n",
    "    (41.49932, -81.6943605),\n",
    "    (39.9611755, -82.99879419999999),\n",
    "    (39.0836712, -84.5085536),\n",
    "    (39.7589478, -84.1916069),\n",
    "    (39.2903848, -76.6121893),\n",
    "    (42.331427, -83.0457538),\n",
    "    (39.158168, -75.5243682),\n",
    "    (42.0897965, -76.8077338),\n",
    "    (41.079273, -85.1393513),\n",
    "    (35.1414552, -79.0079949),\n",
    "    (41.3493617, -81.3736244),\n",
    "    (39.8917799, -75.1162863),\n",
    "    (42.9633599, -85.6680863),\n",
    "    (40.7439905, -74.0323626),\n",
    "    (40.7464901, -74.1562551),\n",
    "    (21.3069444, -157.8583333),\n",
    "    (29.7604267, -95.3698028),\n",
    "    (41.7658043, -72.6733723),\n",
    "    (39.768403, -86.158068),\n",
    "    (40.7177545, -74.0431435),\n",
    "    (39.0997265, -94.5785667),\n",
    "    (40.4044731, -91.3963966),\n",
    "    (36.1699412, -115.1398296),\n",
    "    (28.3695351, -81.5261474),\n",
    "    (51.5072178, -0.1275862),\n",
    "    (34.0522342, -118.2436849),\n",
    "    (38.2526647, -85.7584557),\n",
    "    (39.0925597, -84.5474435),\n",
    "    (25.7616798, -80.1917902),\n",
    "    (43.0389025, -87.9064736),\n",
    "    (44.977753, -93.2650108),\n",
    "    (25.6866142, -100.3161126),\n",
    "    (45.5016889, -73.567256),\n",
    "    (41.308274, -72.9278835),\n",
    "    (40.6781784, -73.9441579),\n",
    "    (40.7282239, -73.7948516),\n",
    "    (40.7127753, -74.0059728),\n",
    "    (37.8043514, -122.2711639),\n",
    "    (41.2565369, -95.9345034),\n",
    "    (39.9525839, -75.1652215),\n",
    "    (40.44062479999999, -79.9958864),\n",
    "    (33.4483771, -112.0740373),\n",
    "    (37.5407246, -77.4360481),\n",
    "    (32.715738, -117.1610838),\n",
    "    (47.6062095, -122.3320708),\n",
    "    (37.7749295, -122.4194155),\n",
    "    (18.4655394, -66.1057355),\n",
    "    (38.6270025, -90.19940419999999),\n",
    "    (-33.8688197, 151.2092955),\n",
    "    (35.6761919, 139.6503106),\n",
    "    (41.7001009, -71.4161671),\n",
    "    (38.9071923, -77.0368707)\n",
    "]\n"
   ]
  },
  {
   "cell_type": "code",
   "execution_count": 66,
   "id": "da07d7e4",
   "metadata": {},
   "outputs": [],
   "source": [
    "df = pd.DataFrame(coordinates, columns=[\"lat\", \"lng\"])"
   ]
  },
  {
   "cell_type": "code",
   "execution_count": 67,
   "id": "a2e9c72d",
   "metadata": {},
   "outputs": [],
   "source": [
    "# Customize the size of the figure\n",
    "figure_layout = {\n",
    "    'width': '2500px',\n",
    "    'height': '1200px',\n",
    "    'border': '1px solid black',\n",
    "    'padding': '1px',\n",
    "    'margin': '0 auto 0 auto'\n",
    "}\n",
    "fig = gmaps.figure(layout=figure_layout)"
   ]
  },
  {
   "cell_type": "code",
   "execution_count": 79,
   "id": "e14a4afc",
   "metadata": {},
   "outputs": [
    {
     "data": {
      "application/vnd.jupyter.widget-view+json": {
       "model_id": "64d1f54da40746dab801b2d8ab8972c4",
       "version_major": 2,
       "version_minor": 0
      },
      "text/plain": [
       "Figure(layout=FigureLayout(border='1px solid black', height='1200px', margin='0 auto 0 auto', padding='1px', w…"
      ]
     },
     "metadata": {},
     "output_type": "display_data"
    },
    {
     "data": {
      "text/plain": [
       "<Figure size 432x288 with 0 Axes>"
      ]
     },
     "metadata": {},
     "output_type": "display_data"
    }
   ],
   "source": [
    "# Assign the marker layer to a variable\n",
    "markers = gmaps.marker_layer(df[[\"lat\", \"lng\"]])\n",
    "# Add the layer to the map\n",
    "fig.add_layer(markers)\n",
    "plt.savefig('Ballpark_Map.png')\n",
    "fig"
   ]
  },
  {
   "cell_type": "code",
   "execution_count": null,
   "id": "ad81cfd5",
   "metadata": {},
   "outputs": [],
   "source": []
  },
  {
   "cell_type": "code",
   "execution_count": null,
   "id": "2fbf2719",
   "metadata": {},
   "outputs": [],
   "source": []
  },
  {
   "cell_type": "code",
   "execution_count": null,
   "id": "a3f7bb29",
   "metadata": {},
   "outputs": [],
   "source": []
  }
 ],
 "metadata": {
  "kernelspec": {
   "display_name": "Python 3",
   "language": "python",
   "name": "python3"
  },
  "language_info": {
   "codemirror_mode": {
    "name": "ipython",
    "version": 3
   },
   "file_extension": ".py",
   "mimetype": "text/x-python",
   "name": "python",
   "nbconvert_exporter": "python",
   "pygments_lexer": "ipython3",
   "version": "3.8.8"
  }
 },
 "nbformat": 4,
 "nbformat_minor": 5
}
