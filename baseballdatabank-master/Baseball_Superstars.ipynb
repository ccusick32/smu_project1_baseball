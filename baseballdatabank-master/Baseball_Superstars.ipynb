{
 "cells": [
  {
   "cell_type": "code",
   "execution_count": 4,
   "id": "e8830d91",
   "metadata": {},
   "outputs": [],
   "source": [
    "import pandas as pd \n",
    "import seaborn as sns\n",
    "import matplotlib.pyplot as plt\n",
    "import pprint as pprint\n",
    "import numpy as np\n",
    "import glob"
   ]
  },
  {
   "cell_type": "code",
   "execution_count": 32,
   "id": "de9258f0",
   "metadata": {},
   "outputs": [
    {
     "data": {
      "text/plain": [
       "['/Users/ebimoosa/Desktop/SMU/Personal SMU/project 1/smu_project1_baseball/baseballdatabank-master/core/Fielding.csv',\n",
       " '/Users/ebimoosa/Desktop/SMU/Personal SMU/project 1/smu_project1_baseball/baseballdatabank-master/core/Salaries.csv',\n",
       " '/Users/ebimoosa/Desktop/SMU/Personal SMU/project 1/smu_project1_baseball/baseballdatabank-master/core/People.csv',\n",
       " '/Users/ebimoosa/Desktop/SMU/Personal SMU/project 1/smu_project1_baseball/baseballdatabank-master/core/Teams.csv',\n",
       " '/Users/ebimoosa/Desktop/SMU/Personal SMU/project 1/smu_project1_baseball/baseballdatabank-master/core/Batting.csv',\n",
       " '/Users/ebimoosa/Desktop/SMU/Personal SMU/project 1/smu_project1_baseball/baseballdatabank-master/core/FieldingOF.csv',\n",
       " '/Users/ebimoosa/Desktop/SMU/Personal SMU/project 1/smu_project1_baseball/baseballdatabank-master/core/SeriesPost.csv']"
      ]
     },
     "execution_count": 32,
     "metadata": {},
     "output_type": "execute_result"
    }
   ],
   "source": [
    "filepath = \"/Users/ebimoosa/Desktop/SMU/Personal SMU/project 1/smu_project1_baseball/baseballdatabank-master/core\"\n",
    "all_files = glob.glob(filepath + \"/*.csv\")\n",
    "all_files"
   ]
  },
  {
   "cell_type": "code",
   "execution_count": 33,
   "id": "b9e66eb0",
   "metadata": {},
   "outputs": [],
   "source": [
    "li = []\n",
    "\n",
    "for filename in all_files:\n",
    "    df = pd.read_csv(filename, index_col=None, header=0)\n",
    "    li.append(df)\n",
    "\n",
    "frame = pd.concat(li, axis=0, ignore_index=True)"
   ]
  },
  {
   "cell_type": "code",
   "execution_count": 35,
   "id": "a5e95d44",
   "metadata": {},
   "outputs": [
    {
     "name": "stdout",
     "output_type": "stream",
     "text": [
      "<class 'pandas.core.frame.DataFrame'>\n",
      "RangeIndex: 315684 entries, 0 to 315683\n",
      "Data columns (total 97 columns):\n",
      " #   Column          Non-Null Count   Dtype  \n",
      "---  ------          --------------   -----  \n",
      " 0   playerID        312371 non-null  object \n",
      " 1   yearID          295326 non-null  float64\n",
      " 2   stint           265585 non-null  float64\n",
      " 3   teamID          282940 non-null  object \n",
      " 4   lgID            280641 non-null  object \n",
      " 5   POS             144768 non-null  object \n",
      " 6   G               256512 non-null  float64\n",
      " 7   GS              98612 non-null   float64\n",
      " 8   InnOuts         114839 non-null  float64\n",
      " 9   PO              144768 non-null  float64\n",
      " 10  A               144768 non-null  float64\n",
      " 11  E               147722 non-null  float64\n",
      " 12  DP              147723 non-null  float64\n",
      " 13  PB              11709 non-null   float64\n",
      " 14  WP              1169 non-null    float64\n",
      " 15  SB              118172 non-null  float64\n",
      " 16  CS              96293 non-null   float64\n",
      " 17  ZR              1169 non-null    float64\n",
      " 18  salary          26428 non-null   float64\n",
      " 19  birthYear       20247 non-null   float64\n",
      " 20  birthMonth      20079 non-null   float64\n",
      " 21  birthDay        19938 non-null   float64\n",
      " 22  birthCountry    20299 non-null   object \n",
      " 23  birthState      19824 non-null   object \n",
      " 24  birthCity       20190 non-null   object \n",
      " 25  deathYear       9996 non-null    float64\n",
      " 26  deathMonth      9995 non-null    float64\n",
      " 27  deathDay        9994 non-null    float64\n",
      " 28  deathCountry    9992 non-null    object \n",
      " 29  deathState      9939 non-null    object \n",
      " 30  deathCity       9986 non-null    object \n",
      " 31  nameFirst       20321 non-null   object \n",
      " 32  nameLast        20358 non-null   object \n",
      " 33  nameGiven       20321 non-null   object \n",
      " 34  weight          19543 non-null   float64\n",
      " 35  height          19623 non-null   float64\n",
      " 36  bats            19179 non-null   object \n",
      " 37  throws          19383 non-null   object \n",
      " 38  debut           20160 non-null   object \n",
      " 39  finalGame       20160 non-null   object \n",
      " 40  retroID         20309 non-null   object \n",
      " 41  bbrefID         20356 non-null   object \n",
      " 42  franchID        2955 non-null    object \n",
      " 43  divID           1438 non-null    object \n",
      " 44  Rank            2955 non-null    float64\n",
      " 45  Ghome           2556 non-null    float64\n",
      " 46  W               2955 non-null    float64\n",
      " 47  L               2955 non-null    float64\n",
      " 48  DivWin          1410 non-null    object \n",
      " 49  WCWin           774 non-null     object \n",
      " 50  LgWin           2927 non-null    object \n",
      " 51  WSWin           2598 non-null    object \n",
      " 52  R               111744 non-null  float64\n",
      " 53  AB              111744 non-null  float64\n",
      " 54  H               111744 non-null  float64\n",
      " 55  2B              111744 non-null  float64\n",
      " 56  3B              111744 non-null  float64\n",
      " 57  HR              111744 non-null  float64\n",
      " 58  BB              111743 non-null  float64\n",
      " 59  SO              109628 non-null  float64\n",
      " 60  HBP             107770 non-null  float64\n",
      " 61  SF              74100 non-null   float64\n",
      " 62  RA              2955 non-null    float64\n",
      " 63  ER              2955 non-null    float64\n",
      " 64  ERA             2955 non-null    float64\n",
      " 65  CG              2955 non-null    float64\n",
      " 66  SHO             2955 non-null    float64\n",
      " 67  SV              2955 non-null    float64\n",
      " 68  IPouts          2955 non-null    float64\n",
      " 69  HA              2955 non-null    float64\n",
      " 70  HRA             2955 non-null    float64\n",
      " 71  BBA             2955 non-null    float64\n",
      " 72  SOA             2955 non-null    float64\n",
      " 73  FP              2955 non-null    float64\n",
      " 74  name            2955 non-null    object \n",
      " 75  park            2921 non-null    object \n",
      " 76  attendance      2676 non-null    float64\n",
      " 77  BPF             2955 non-null    float64\n",
      " 78  PPF             2955 non-null    float64\n",
      " 79  teamIDBR        2955 non-null    object \n",
      " 80  teamIDlahman45  2955 non-null    object \n",
      " 81  teamIDretro     2955 non-null    object \n",
      " 82  RBI             108033 non-null  float64\n",
      " 83  IBB             72139 non-null   float64\n",
      " 84  SH              102721 non-null  float64\n",
      " 85  GIDP            83348 non-null   float64\n",
      " 86  Glf             11991 non-null   float64\n",
      " 87  Gcf             11991 non-null   float64\n",
      " 88  Grf             11985 non-null   float64\n",
      " 89  round           358 non-null     object \n",
      " 90  teamIDwinner    358 non-null     object \n",
      " 91  lgIDwinner      358 non-null     object \n",
      " 92  teamIDloser     358 non-null     object \n",
      " 93  lgIDloser       358 non-null     object \n",
      " 94  wins            358 non-null     float64\n",
      " 95  losses          358 non-null     float64\n",
      " 96  ties            358 non-null     float64\n",
      "dtypes: float64(62), object(35)\n",
      "memory usage: 233.6+ MB\n"
     ]
    }
   ],
   "source": [
    "frame.info()"
   ]
  },
  {
   "cell_type": "code",
   "execution_count": null,
   "id": "36b5ef95",
   "metadata": {},
   "outputs": [],
   "source": []
  },
  {
   "cell_type": "code",
   "execution_count": null,
   "id": "9e6bc138",
   "metadata": {},
   "outputs": [],
   "source": []
  }
 ],
 "metadata": {
  "kernelspec": {
   "display_name": "Python 3 (ipykernel)",
   "language": "python",
   "name": "python3"
  },
  "language_info": {
   "codemirror_mode": {
    "name": "ipython",
    "version": 3
   },
   "file_extension": ".py",
   "mimetype": "text/x-python",
   "name": "python",
   "nbconvert_exporter": "python",
   "pygments_lexer": "ipython3",
   "version": "3.9.7"
  }
 },
 "nbformat": 4,
 "nbformat_minor": 5
}
